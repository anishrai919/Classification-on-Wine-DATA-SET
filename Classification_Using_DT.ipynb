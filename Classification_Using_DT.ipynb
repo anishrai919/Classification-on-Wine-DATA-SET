{
 "cells": [
  {
   "cell_type": "markdown",
   "metadata": {},
   "source": [
    "Classification - Decision Tree"
   ]
  },
  {
   "cell_type": "markdown",
   "metadata": {},
   "source": [
    "#External sources used.\n",
    "•\thttp://scikit-learn.org/stable/modules/tree.html\n",
    "•\thttps://www.datacamp.com/courses/machine-learning-with-tree-based-models-in-python\n",
    "•\thttp://scikit-learn.org/stable/datasets/index.html#wine-dataset\n",
    "•\thttp://mines.humanoriented.com/classes/2010/fall/csci568/portfolio_exports/lguo\n",
    "\n"
   ]
  },
  {
   "cell_type": "markdown",
   "metadata": {},
   "source": [
    "For this task, Pandas and sklearn have been used\n",
    "1. Loading wine dataset from sklearn datasets.\n",
    "2. Creating a dataframe and printing the first and last five records of the dataset.\n",
    "3. Printing the class names.\n",
    "4. Spliting the dataset 70% for training, and 30% for testing the classifier.\n",
    "5. Using gini and entropy to measure the quality of a split.\n",
    "6. Calculating and printing the confusion matrix, and the classification Report (including: precision, recall, f1-score, and support).\n",
    "7. Printing the decision tree visualization"
   ]
  },
  {
   "cell_type": "code",
   "execution_count": 38,
   "metadata": {},
   "outputs": [],
   "source": [
    "import pandas as pd"
   ]
  },
  {
   "cell_type": "code",
   "execution_count": 39,
   "metadata": {},
   "outputs": [],
   "source": [
    "import numpy as np"
   ]
  },
  {
   "cell_type": "code",
   "execution_count": 40,
   "metadata": {},
   "outputs": [],
   "source": [
    "import matplotlib.pyplot as plt"
   ]
  },
  {
   "cell_type": "code",
   "execution_count": 41,
   "metadata": {},
   "outputs": [],
   "source": [
    "############### import wine dataset from sklearn\n",
    "from sklearn import datasets\n",
    "wine = datasets.load_wine()"
   ]
  },
  {
   "cell_type": "code",
   "execution_count": 42,
   "metadata": {},
   "outputs": [],
   "source": [
    "x = wine.data\n",
    "y = wine.target"
   ]
  },
  {
   "cell_type": "code",
   "execution_count": 43,
   "metadata": {},
   "outputs": [],
   "source": [
    "################ Creating a data frame\n",
    "df = pd.DataFrame(x, columns= wine.feature_names)"
   ]
  },
  {
   "cell_type": "code",
   "execution_count": 44,
   "metadata": {},
   "outputs": [
    {
     "data": {
      "text/html": [
       "<div>\n",
       "<style scoped>\n",
       "    .dataframe tbody tr th:only-of-type {\n",
       "        vertical-align: middle;\n",
       "    }\n",
       "\n",
       "    .dataframe tbody tr th {\n",
       "        vertical-align: top;\n",
       "    }\n",
       "\n",
       "    .dataframe thead th {\n",
       "        text-align: right;\n",
       "    }\n",
       "</style>\n",
       "<table border=\"1\" class=\"dataframe\">\n",
       "  <thead>\n",
       "    <tr style=\"text-align: right;\">\n",
       "      <th></th>\n",
       "      <th>alcohol</th>\n",
       "      <th>malic_acid</th>\n",
       "      <th>ash</th>\n",
       "      <th>alcalinity_of_ash</th>\n",
       "      <th>magnesium</th>\n",
       "      <th>total_phenols</th>\n",
       "      <th>flavanoids</th>\n",
       "      <th>nonflavanoid_phenols</th>\n",
       "      <th>proanthocyanins</th>\n",
       "      <th>color_intensity</th>\n",
       "      <th>hue</th>\n",
       "      <th>od280/od315_of_diluted_wines</th>\n",
       "      <th>proline</th>\n",
       "    </tr>\n",
       "  </thead>\n",
       "  <tbody>\n",
       "    <tr>\n",
       "      <th>0</th>\n",
       "      <td>14.23</td>\n",
       "      <td>1.71</td>\n",
       "      <td>2.43</td>\n",
       "      <td>15.6</td>\n",
       "      <td>127.0</td>\n",
       "      <td>2.80</td>\n",
       "      <td>3.06</td>\n",
       "      <td>0.28</td>\n",
       "      <td>2.29</td>\n",
       "      <td>5.64</td>\n",
       "      <td>1.04</td>\n",
       "      <td>3.92</td>\n",
       "      <td>1065.0</td>\n",
       "    </tr>\n",
       "    <tr>\n",
       "      <th>1</th>\n",
       "      <td>13.20</td>\n",
       "      <td>1.78</td>\n",
       "      <td>2.14</td>\n",
       "      <td>11.2</td>\n",
       "      <td>100.0</td>\n",
       "      <td>2.65</td>\n",
       "      <td>2.76</td>\n",
       "      <td>0.26</td>\n",
       "      <td>1.28</td>\n",
       "      <td>4.38</td>\n",
       "      <td>1.05</td>\n",
       "      <td>3.40</td>\n",
       "      <td>1050.0</td>\n",
       "    </tr>\n",
       "    <tr>\n",
       "      <th>2</th>\n",
       "      <td>13.16</td>\n",
       "      <td>2.36</td>\n",
       "      <td>2.67</td>\n",
       "      <td>18.6</td>\n",
       "      <td>101.0</td>\n",
       "      <td>2.80</td>\n",
       "      <td>3.24</td>\n",
       "      <td>0.30</td>\n",
       "      <td>2.81</td>\n",
       "      <td>5.68</td>\n",
       "      <td>1.03</td>\n",
       "      <td>3.17</td>\n",
       "      <td>1185.0</td>\n",
       "    </tr>\n",
       "    <tr>\n",
       "      <th>3</th>\n",
       "      <td>14.37</td>\n",
       "      <td>1.95</td>\n",
       "      <td>2.50</td>\n",
       "      <td>16.8</td>\n",
       "      <td>113.0</td>\n",
       "      <td>3.85</td>\n",
       "      <td>3.49</td>\n",
       "      <td>0.24</td>\n",
       "      <td>2.18</td>\n",
       "      <td>7.80</td>\n",
       "      <td>0.86</td>\n",
       "      <td>3.45</td>\n",
       "      <td>1480.0</td>\n",
       "    </tr>\n",
       "    <tr>\n",
       "      <th>4</th>\n",
       "      <td>13.24</td>\n",
       "      <td>2.59</td>\n",
       "      <td>2.87</td>\n",
       "      <td>21.0</td>\n",
       "      <td>118.0</td>\n",
       "      <td>2.80</td>\n",
       "      <td>2.69</td>\n",
       "      <td>0.39</td>\n",
       "      <td>1.82</td>\n",
       "      <td>4.32</td>\n",
       "      <td>1.04</td>\n",
       "      <td>2.93</td>\n",
       "      <td>735.0</td>\n",
       "    </tr>\n",
       "  </tbody>\n",
       "</table>\n",
       "</div>"
      ],
      "text/plain": [
       "   alcohol  malic_acid   ash  alcalinity_of_ash  magnesium  total_phenols  \\\n",
       "0    14.23        1.71  2.43               15.6      127.0           2.80   \n",
       "1    13.20        1.78  2.14               11.2      100.0           2.65   \n",
       "2    13.16        2.36  2.67               18.6      101.0           2.80   \n",
       "3    14.37        1.95  2.50               16.8      113.0           3.85   \n",
       "4    13.24        2.59  2.87               21.0      118.0           2.80   \n",
       "\n",
       "   flavanoids  nonflavanoid_phenols  proanthocyanins  color_intensity   hue  \\\n",
       "0        3.06                  0.28             2.29             5.64  1.04   \n",
       "1        2.76                  0.26             1.28             4.38  1.05   \n",
       "2        3.24                  0.30             2.81             5.68  1.03   \n",
       "3        3.49                  0.24             2.18             7.80  0.86   \n",
       "4        2.69                  0.39             1.82             4.32  1.04   \n",
       "\n",
       "   od280/od315_of_diluted_wines  proline  \n",
       "0                          3.92   1065.0  \n",
       "1                          3.40   1050.0  \n",
       "2                          3.17   1185.0  \n",
       "3                          3.45   1480.0  \n",
       "4                          2.93    735.0  "
      ]
     },
     "execution_count": 44,
     "metadata": {},
     "output_type": "execute_result"
    }
   ],
   "source": [
    "################ first 5 records\n",
    "df.head()"
   ]
  },
  {
   "cell_type": "code",
   "execution_count": 45,
   "metadata": {},
   "outputs": [
    {
     "data": {
      "text/html": [
       "<div>\n",
       "<style scoped>\n",
       "    .dataframe tbody tr th:only-of-type {\n",
       "        vertical-align: middle;\n",
       "    }\n",
       "\n",
       "    .dataframe tbody tr th {\n",
       "        vertical-align: top;\n",
       "    }\n",
       "\n",
       "    .dataframe thead th {\n",
       "        text-align: right;\n",
       "    }\n",
       "</style>\n",
       "<table border=\"1\" class=\"dataframe\">\n",
       "  <thead>\n",
       "    <tr style=\"text-align: right;\">\n",
       "      <th></th>\n",
       "      <th>alcohol</th>\n",
       "      <th>malic_acid</th>\n",
       "      <th>ash</th>\n",
       "      <th>alcalinity_of_ash</th>\n",
       "      <th>magnesium</th>\n",
       "      <th>total_phenols</th>\n",
       "      <th>flavanoids</th>\n",
       "      <th>nonflavanoid_phenols</th>\n",
       "      <th>proanthocyanins</th>\n",
       "      <th>color_intensity</th>\n",
       "      <th>hue</th>\n",
       "      <th>od280/od315_of_diluted_wines</th>\n",
       "      <th>proline</th>\n",
       "    </tr>\n",
       "  </thead>\n",
       "  <tbody>\n",
       "    <tr>\n",
       "      <th>173</th>\n",
       "      <td>13.71</td>\n",
       "      <td>5.65</td>\n",
       "      <td>2.45</td>\n",
       "      <td>20.5</td>\n",
       "      <td>95.0</td>\n",
       "      <td>1.68</td>\n",
       "      <td>0.61</td>\n",
       "      <td>0.52</td>\n",
       "      <td>1.06</td>\n",
       "      <td>7.7</td>\n",
       "      <td>0.64</td>\n",
       "      <td>1.74</td>\n",
       "      <td>740.0</td>\n",
       "    </tr>\n",
       "    <tr>\n",
       "      <th>174</th>\n",
       "      <td>13.40</td>\n",
       "      <td>3.91</td>\n",
       "      <td>2.48</td>\n",
       "      <td>23.0</td>\n",
       "      <td>102.0</td>\n",
       "      <td>1.80</td>\n",
       "      <td>0.75</td>\n",
       "      <td>0.43</td>\n",
       "      <td>1.41</td>\n",
       "      <td>7.3</td>\n",
       "      <td>0.70</td>\n",
       "      <td>1.56</td>\n",
       "      <td>750.0</td>\n",
       "    </tr>\n",
       "    <tr>\n",
       "      <th>175</th>\n",
       "      <td>13.27</td>\n",
       "      <td>4.28</td>\n",
       "      <td>2.26</td>\n",
       "      <td>20.0</td>\n",
       "      <td>120.0</td>\n",
       "      <td>1.59</td>\n",
       "      <td>0.69</td>\n",
       "      <td>0.43</td>\n",
       "      <td>1.35</td>\n",
       "      <td>10.2</td>\n",
       "      <td>0.59</td>\n",
       "      <td>1.56</td>\n",
       "      <td>835.0</td>\n",
       "    </tr>\n",
       "    <tr>\n",
       "      <th>176</th>\n",
       "      <td>13.17</td>\n",
       "      <td>2.59</td>\n",
       "      <td>2.37</td>\n",
       "      <td>20.0</td>\n",
       "      <td>120.0</td>\n",
       "      <td>1.65</td>\n",
       "      <td>0.68</td>\n",
       "      <td>0.53</td>\n",
       "      <td>1.46</td>\n",
       "      <td>9.3</td>\n",
       "      <td>0.60</td>\n",
       "      <td>1.62</td>\n",
       "      <td>840.0</td>\n",
       "    </tr>\n",
       "    <tr>\n",
       "      <th>177</th>\n",
       "      <td>14.13</td>\n",
       "      <td>4.10</td>\n",
       "      <td>2.74</td>\n",
       "      <td>24.5</td>\n",
       "      <td>96.0</td>\n",
       "      <td>2.05</td>\n",
       "      <td>0.76</td>\n",
       "      <td>0.56</td>\n",
       "      <td>1.35</td>\n",
       "      <td>9.2</td>\n",
       "      <td>0.61</td>\n",
       "      <td>1.60</td>\n",
       "      <td>560.0</td>\n",
       "    </tr>\n",
       "  </tbody>\n",
       "</table>\n",
       "</div>"
      ],
      "text/plain": [
       "     alcohol  malic_acid   ash  alcalinity_of_ash  magnesium  total_phenols  \\\n",
       "173    13.71        5.65  2.45               20.5       95.0           1.68   \n",
       "174    13.40        3.91  2.48               23.0      102.0           1.80   \n",
       "175    13.27        4.28  2.26               20.0      120.0           1.59   \n",
       "176    13.17        2.59  2.37               20.0      120.0           1.65   \n",
       "177    14.13        4.10  2.74               24.5       96.0           2.05   \n",
       "\n",
       "     flavanoids  nonflavanoid_phenols  proanthocyanins  color_intensity   hue  \\\n",
       "173        0.61                  0.52             1.06              7.7  0.64   \n",
       "174        0.75                  0.43             1.41              7.3  0.70   \n",
       "175        0.69                  0.43             1.35             10.2  0.59   \n",
       "176        0.68                  0.53             1.46              9.3  0.60   \n",
       "177        0.76                  0.56             1.35              9.2  0.61   \n",
       "\n",
       "     od280/od315_of_diluted_wines  proline  \n",
       "173                          1.74    740.0  \n",
       "174                          1.56    750.0  \n",
       "175                          1.56    835.0  \n",
       "176                          1.62    840.0  \n",
       "177                          1.60    560.0  "
      ]
     },
     "execution_count": 45,
     "metadata": {},
     "output_type": "execute_result"
    }
   ],
   "source": [
    "############### last 5 records\n",
    "df.tail()"
   ]
  },
  {
   "cell_type": "code",
   "execution_count": 46,
   "metadata": {},
   "outputs": [
    {
     "name": "stdout",
     "output_type": "stream",
     "text": [
      "['class_0' 'class_1' 'class_2']\n"
     ]
    }
   ],
   "source": [
    "################# print class name\n",
    "print(wine.target_names)"
   ]
  },
  {
   "cell_type": "code",
   "execution_count": 47,
   "metadata": {},
   "outputs": [],
   "source": [
    "################# how to train and split\n",
    "from sklearn.model_selection import train_test_split"
   ]
  },
  {
   "cell_type": "code",
   "execution_count": 48,
   "metadata": {},
   "outputs": [],
   "source": [
    "################ split data 30% for testing & 70% for training\n",
    "x_train, x_test, y_train, y_test = train_test_split(x,y,test_size=0.3,random_state=1,stratify=y)"
   ]
  },
  {
   "cell_type": "code",
   "execution_count": 49,
   "metadata": {},
   "outputs": [],
   "source": [
    "############### import decision tree classifier\n",
    "from sklearn.tree import DecisionTreeClassifier"
   ]
  },
  {
   "cell_type": "code",
   "execution_count": 50,
   "metadata": {},
   "outputs": [],
   "source": [
    "##############import accuracy score\n",
    "from sklearn.metrics import accuracy_score"
   ]
  },
  {
   "cell_type": "code",
   "execution_count": 51,
   "metadata": {},
   "outputs": [],
   "source": [
    "###intialize Decision Tree (DT) & set criterion as 'gini' to meaure qulity of split\n",
    "dt=DecisionTreeClassifier(criterion='gini',random_state=1, max_depth=5)"
   ]
  },
  {
   "cell_type": "code",
   "execution_count": 52,
   "metadata": {},
   "outputs": [
    {
     "data": {
      "text/plain": [
       "DecisionTreeClassifier(class_weight=None, criterion='gini', max_depth=5,\n",
       "            max_features=None, max_leaf_nodes=None,\n",
       "            min_impurity_decrease=0.0, min_impurity_split=None,\n",
       "            min_samples_leaf=1, min_samples_split=2,\n",
       "            min_weight_fraction_leaf=0.0, presort=False, random_state=1,\n",
       "            splitter='best')"
      ]
     },
     "execution_count": 52,
     "metadata": {},
     "output_type": "execute_result"
    }
   ],
   "source": [
    "############# Fit Dt to training for gini\n",
    "dt.fit(x_train , y_train)"
   ]
  },
  {
   "cell_type": "code",
   "execution_count": 53,
   "metadata": {},
   "outputs": [],
   "source": [
    "##############predict test labels for gini\n",
    "y_pred = dt.predict(x_test)"
   ]
  },
  {
   "cell_type": "code",
   "execution_count": 54,
   "metadata": {},
   "outputs": [
    {
     "name": "stdout",
     "output_type": "stream",
     "text": [
      "[2 2 2 1 1 0 1 0 1 2 2 0 1 0 2 1 0 0 0 2 0 1 1 0 1 2 2 1 1 1 2 1 0 1 1 0 2\n",
      " 1 1 2 0 2 0 0 1 1 0 2 1 0 1 0 0 2]\n"
     ]
    }
   ],
   "source": [
    "print(y_pred)"
   ]
  },
  {
   "cell_type": "code",
   "execution_count": 55,
   "metadata": {},
   "outputs": [
    {
     "data": {
      "text/plain": [
       "(array([2, 2, 2, 1, 1, 0, 1, 0, 1, 2, 2, 0, 1, 0, 2, 1, 0, 0, 0, 2, 0, 1,\n",
       "        1, 0, 1, 2, 2, 1, 1, 1, 2, 1, 0, 1, 1, 1, 2, 1, 1, 2, 0, 2, 0, 0,\n",
       "        0, 1, 0, 2, 1, 0, 1, 0, 0, 2]),\n",
       " array([2, 2, 2, 1, 1, 0, 1, 0, 1, 2, 2, 0, 1, 0, 2, 1, 0, 0, 0, 2, 0, 1,\n",
       "        1, 0, 1, 2, 2, 1, 1, 1, 2, 1, 0, 1, 1, 0, 2, 1, 1, 2, 0, 2, 0, 0,\n",
       "        1, 1, 0, 2, 1, 0, 1, 0, 0, 2]))"
      ]
     },
     "execution_count": 55,
     "metadata": {},
     "output_type": "execute_result"
    }
   ],
   "source": [
    "################# Evaluate test-set-accuracy for gini\n",
    "accuracy_score=(y_test,y_pred)\n",
    "accuracy_score"
   ]
  },
  {
   "cell_type": "code",
   "execution_count": 56,
   "metadata": {},
   "outputs": [
    {
     "data": {
      "text/plain": [
       "0.9629629629629629"
      ]
     },
     "execution_count": 56,
     "metadata": {},
     "output_type": "execute_result"
    }
   ],
   "source": [
    "dt.score(x_test,y_test)"
   ]
  },
  {
   "cell_type": "code",
   "execution_count": 57,
   "metadata": {},
   "outputs": [],
   "source": [
    "###############intialize Decision Tree (DT) & set criterion as 'entropy' to measure the quality of split\n",
    "dt1=DecisionTreeClassifier(criterion='entropy',random_state=1)"
   ]
  },
  {
   "cell_type": "code",
   "execution_count": 58,
   "metadata": {},
   "outputs": [
    {
     "data": {
      "text/plain": [
       "DecisionTreeClassifier(class_weight=None, criterion='entropy', max_depth=None,\n",
       "            max_features=None, max_leaf_nodes=None,\n",
       "            min_impurity_decrease=0.0, min_impurity_split=None,\n",
       "            min_samples_leaf=1, min_samples_split=2,\n",
       "            min_weight_fraction_leaf=0.0, presort=False, random_state=1,\n",
       "            splitter='best')"
      ]
     },
     "execution_count": 58,
     "metadata": {},
     "output_type": "execute_result"
    }
   ],
   "source": [
    "############### Fit Dt to training  for entropy\n",
    "dt1.fit(x_train , y_train)\n"
   ]
  },
  {
   "cell_type": "code",
   "execution_count": 59,
   "metadata": {},
   "outputs": [],
   "source": [
    "##############predict test labels for entropy\n",
    "y_prediction = dt1.predict(x_test)"
   ]
  },
  {
   "cell_type": "code",
   "execution_count": 60,
   "metadata": {},
   "outputs": [
    {
     "name": "stdout",
     "output_type": "stream",
     "text": [
      "[2 2 2 1 1 0 1 0 1 1 2 0 0 0 2 1 0 0 0 2 0 1 1 0 0 2 2 1 1 1 2 1 0 1 1 1 2\n",
      " 1 1 2 0 2 0 0 1 0 0 2 1 0 1 0 0 2]\n"
     ]
    }
   ],
   "source": [
    "print(y_prediction)"
   ]
  },
  {
   "cell_type": "code",
   "execution_count": 61,
   "metadata": {},
   "outputs": [
    {
     "data": {
      "text/plain": [
       "(array([2, 2, 2, 1, 1, 0, 1, 0, 1, 2, 2, 0, 1, 0, 2, 1, 0, 0, 0, 2, 0, 1,\n",
       "        1, 0, 1, 2, 2, 1, 1, 1, 2, 1, 0, 1, 1, 1, 2, 1, 1, 2, 0, 2, 0, 0,\n",
       "        0, 1, 0, 2, 1, 0, 1, 0, 0, 2]),\n",
       " array([2, 2, 2, 1, 1, 0, 1, 0, 1, 1, 2, 0, 0, 0, 2, 1, 0, 0, 0, 2, 0, 1,\n",
       "        1, 0, 0, 2, 2, 1, 1, 1, 2, 1, 0, 1, 1, 1, 2, 1, 1, 2, 0, 2, 0, 0,\n",
       "        1, 0, 0, 2, 1, 0, 1, 0, 0, 2]))"
      ]
     },
     "execution_count": 61,
     "metadata": {},
     "output_type": "execute_result"
    }
   ],
   "source": [
    "################# Evaluate test-set-accuracy for entropy\n",
    "accuracy_score=(y_test,y_prediction)\n",
    "accuracy_score"
   ]
  },
  {
   "cell_type": "code",
   "execution_count": 62,
   "metadata": {},
   "outputs": [
    {
     "data": {
      "text/plain": [
       "0.9074074074074074"
      ]
     },
     "execution_count": 62,
     "metadata": {},
     "output_type": "execute_result"
    }
   ],
   "source": [
    "dt1.score(x_test,y_test)"
   ]
  },
  {
   "cell_type": "code",
   "execution_count": 63,
   "metadata": {},
   "outputs": [],
   "source": [
    "############### import confusion matrix\n",
    "from sklearn.metrics import confusion_matrix"
   ]
  },
  {
   "cell_type": "code",
   "execution_count": 64,
   "metadata": {},
   "outputs": [],
   "source": [
    "############### import classification report\n",
    "from sklearn.metrics import classification_report"
   ]
  },
  {
   "cell_type": "code",
   "execution_count": 65,
   "metadata": {},
   "outputs": [
    {
     "name": "stdout",
     "output_type": "stream",
     "text": [
      "[[17  1  0]\n",
      " [ 1 20  0]\n",
      " [ 0  0 15]]\n"
     ]
    }
   ],
   "source": [
    "############ confusion matrix for 'Gini'\n",
    "print(confusion_matrix(y_test,y_pred))"
   ]
  },
  {
   "cell_type": "code",
   "execution_count": 66,
   "metadata": {},
   "outputs": [
    {
     "name": "stdout",
     "output_type": "stream",
     "text": [
      "             precision    recall  f1-score   support\n",
      "\n",
      "    class_0       0.94      0.94      0.94        18\n",
      "    class_1       0.95      0.95      0.95        21\n",
      "    class_2       1.00      1.00      1.00        15\n",
      "\n",
      "avg / total       0.96      0.96      0.96        54\n",
      "\n"
     ]
    }
   ],
   "source": [
    "############## classification report for 'Gini'\n",
    "target=wine.target_names\n",
    "print(classification_report(y_test,y_pred,target_names=target))"
   ]
  },
  {
   "cell_type": "code",
   "execution_count": 67,
   "metadata": {},
   "outputs": [
    {
     "name": "stdout",
     "output_type": "stream",
     "text": [
      "[[17  1  0]\n",
      " [ 3 18  0]\n",
      " [ 0  1 14]]\n"
     ]
    }
   ],
   "source": [
    "############# confusion matrix for 'entropy'\n",
    "print(confusion_matrix(y_test,y_prediction))"
   ]
  },
  {
   "cell_type": "code",
   "execution_count": 68,
   "metadata": {},
   "outputs": [
    {
     "name": "stdout",
     "output_type": "stream",
     "text": [
      "             precision    recall  f1-score   support\n",
      "\n",
      "    class_0       0.85      0.94      0.89        18\n",
      "    class_1       0.90      0.86      0.88        21\n",
      "    class_2       1.00      0.93      0.97        15\n",
      "\n",
      "avg / total       0.91      0.91      0.91        54\n",
      "\n"
     ]
    }
   ],
   "source": [
    "############## classification report for 'entropy'\n",
    "print(classification_report(y_test,y_prediction,target_names=target))"
   ]
  },
  {
   "cell_type": "code",
   "execution_count": 69,
   "metadata": {},
   "outputs": [],
   "source": [
    "##################### import tree for visualization\n",
    "from sklearn import tree"
   ]
  },
  {
   "cell_type": "code",
   "execution_count": 70,
   "metadata": {},
   "outputs": [],
   "source": [
    "#################### set criterion to Gini\n",
    "clf = tree.DecisionTreeClassifier(criterion='gini')\n",
    "clf = clf.fit(x, y)"
   ]
  },
  {
   "cell_type": "code",
   "execution_count": 71,
   "metadata": {},
   "outputs": [],
   "source": [
    "################# import graphviz\n",
    "import graphviz\n",
    "from sklearn.tree import export_graphviz"
   ]
  },
  {
   "cell_type": "code",
   "execution_count": 72,
   "metadata": {},
   "outputs": [
    {
     "data": {
      "image/svg+xml": [
       "<?xml version=\"1.0\" encoding=\"UTF-8\" standalone=\"no\"?>\r\n",
       "<!DOCTYPE svg PUBLIC \"-//W3C//DTD SVG 1.1//EN\"\r\n",
       " \"http://www.w3.org/Graphics/SVG/1.1/DTD/svg11.dtd\">\r\n",
       "<!-- Generated by graphviz version 2.38.0 (20140413.2041)\r\n",
       " -->\r\n",
       "<!-- Title: Tree Pages: 1 -->\r\n",
       "<svg width=\"1249pt\" height=\"671pt\"\r\n",
       " viewBox=\"0.00 0.00 1249.00 671.00\" xmlns=\"http://www.w3.org/2000/svg\" xmlns:xlink=\"http://www.w3.org/1999/xlink\">\r\n",
       "<g id=\"graph0\" class=\"graph\" transform=\"scale(1 1) rotate(0) translate(4 667)\">\r\n",
       "<title>Tree</title>\r\n",
       "<polygon fill=\"white\" stroke=\"none\" points=\"-4,4 -4,-667 1245,-667 1245,4 -4,4\"/>\r\n",
       "<!-- 0 -->\r\n",
       "<g id=\"node1\" class=\"node\"><title>0</title>\r\n",
       "<path fill=\"#39e581\" fill-opacity=\"0.101961\" stroke=\"black\" d=\"M725,-663C725,-663 612,-663 612,-663 606,-663 600,-657 600,-651 600,-651 600,-592 600,-592 600,-586 606,-580 612,-580 612,-580 725,-580 725,-580 731,-580 737,-586 737,-592 737,-592 737,-651 737,-651 737,-657 731,-663 725,-663\"/>\r\n",
       "<text text-anchor=\"start\" x=\"621\" y=\"-647.8\" font-family=\"Helvetica,sans-Serif\" font-size=\"14.00\">proline ≤ 755.0</text>\r\n",
       "<text text-anchor=\"start\" x=\"631\" y=\"-632.8\" font-family=\"Helvetica,sans-Serif\" font-size=\"14.00\">gini = 0.658</text>\r\n",
       "<text text-anchor=\"start\" x=\"621\" y=\"-617.8\" font-family=\"Helvetica,sans-Serif\" font-size=\"14.00\">samples = 178</text>\r\n",
       "<text text-anchor=\"start\" x=\"608\" y=\"-602.8\" font-family=\"Helvetica,sans-Serif\" font-size=\"14.00\">value = [59, 71, 48]</text>\r\n",
       "<text text-anchor=\"start\" x=\"619\" y=\"-587.8\" font-family=\"Helvetica,sans-Serif\" font-size=\"14.00\">class = class_1</text>\r\n",
       "</g>\r\n",
       "<!-- 1 -->\r\n",
       "<g id=\"node2\" class=\"node\"><title>1</title>\r\n",
       "<path fill=\"#39e581\" fill-opacity=\"0.360784\" stroke=\"black\" d=\"M654.5,-544C654.5,-544 408.5,-544 408.5,-544 402.5,-544 396.5,-538 396.5,-532 396.5,-532 396.5,-473 396.5,-473 396.5,-467 402.5,-461 408.5,-461 408.5,-461 654.5,-461 654.5,-461 660.5,-461 666.5,-467 666.5,-473 666.5,-473 666.5,-532 666.5,-532 666.5,-538 660.5,-544 654.5,-544\"/>\r\n",
       "<text text-anchor=\"start\" x=\"404.5\" y=\"-528.8\" font-family=\"Helvetica,sans-Serif\" font-size=\"14.00\">od280/od315_of_diluted_wines ≤ 2.115</text>\r\n",
       "<text text-anchor=\"start\" x=\"494\" y=\"-513.8\" font-family=\"Helvetica,sans-Serif\" font-size=\"14.00\">gini = 0.492</text>\r\n",
       "<text text-anchor=\"start\" x=\"484\" y=\"-498.8\" font-family=\"Helvetica,sans-Serif\" font-size=\"14.00\">samples = 111</text>\r\n",
       "<text text-anchor=\"start\" x=\"475\" y=\"-483.8\" font-family=\"Helvetica,sans-Serif\" font-size=\"14.00\">value = [2, 67, 42]</text>\r\n",
       "<text text-anchor=\"start\" x=\"482\" y=\"-468.8\" font-family=\"Helvetica,sans-Serif\" font-size=\"14.00\">class = class_1</text>\r\n",
       "</g>\r\n",
       "<!-- 0&#45;&gt;1 -->\r\n",
       "<g id=\"edge1\" class=\"edge\"><title>0&#45;&gt;1</title>\r\n",
       "<path fill=\"none\" stroke=\"black\" d=\"M620.969,-579.907C609.917,-570.469 598.06,-560.343 586.709,-550.649\"/>\r\n",
       "<polygon fill=\"black\" stroke=\"black\" points=\"588.825,-547.854 578.947,-544.021 584.279,-553.177 588.825,-547.854\"/>\r\n",
       "<text text-anchor=\"middle\" x=\"580.91\" y=\"-565.244\" font-family=\"Helvetica,sans-Serif\" font-size=\"14.00\">True</text>\r\n",
       "</g>\r\n",
       "<!-- 16 -->\r\n",
       "<g id=\"node17\" class=\"node\"><title>16</title>\r\n",
       "<path fill=\"#e58139\" fill-opacity=\"0.835294\" stroke=\"black\" d=\"M893.5,-544C893.5,-544 785.5,-544 785.5,-544 779.5,-544 773.5,-538 773.5,-532 773.5,-532 773.5,-473 773.5,-473 773.5,-467 779.5,-461 785.5,-461 785.5,-461 893.5,-461 893.5,-461 899.5,-461 905.5,-467 905.5,-473 905.5,-473 905.5,-532 905.5,-532 905.5,-538 899.5,-544 893.5,-544\"/>\r\n",
       "<text text-anchor=\"start\" x=\"781.5\" y=\"-528.8\" font-family=\"Helvetica,sans-Serif\" font-size=\"14.00\">flavanoids ≤ 2.165</text>\r\n",
       "<text text-anchor=\"start\" x=\"802\" y=\"-513.8\" font-family=\"Helvetica,sans-Serif\" font-size=\"14.00\">gini = 0.265</text>\r\n",
       "<text text-anchor=\"start\" x=\"796\" y=\"-498.8\" font-family=\"Helvetica,sans-Serif\" font-size=\"14.00\">samples = 67</text>\r\n",
       "<text text-anchor=\"start\" x=\"787\" y=\"-483.8\" font-family=\"Helvetica,sans-Serif\" font-size=\"14.00\">value = [57, 4, 6]</text>\r\n",
       "<text text-anchor=\"start\" x=\"790\" y=\"-468.8\" font-family=\"Helvetica,sans-Serif\" font-size=\"14.00\">class = class_0</text>\r\n",
       "</g>\r\n",
       "<!-- 0&#45;&gt;16 -->\r\n",
       "<g id=\"edge16\" class=\"edge\"><title>0&#45;&gt;16</title>\r\n",
       "<path fill=\"none\" stroke=\"black\" d=\"M727.828,-579.907C742.02,-570.197 757.276,-559.758 771.814,-549.811\"/>\r\n",
       "<polygon fill=\"black\" stroke=\"black\" points=\"774.001,-552.556 780.277,-544.021 770.048,-546.779 774.001,-552.556\"/>\r\n",
       "<text text-anchor=\"middle\" x=\"775.67\" y=\"-564.893\" font-family=\"Helvetica,sans-Serif\" font-size=\"14.00\">False</text>\r\n",
       "</g>\r\n",
       "<!-- 2 -->\r\n",
       "<g id=\"node3\" class=\"node\"><title>2</title>\r\n",
       "<path fill=\"#8139e5\" fill-opacity=\"0.850980\" stroke=\"black\" d=\"M398,-425C398,-425 301,-425 301,-425 295,-425 289,-419 289,-413 289,-413 289,-354 289,-354 289,-348 295,-342 301,-342 301,-342 398,-342 398,-342 404,-342 410,-348 410,-354 410,-354 410,-413 410,-413 410,-419 404,-425 398,-425\"/>\r\n",
       "<text text-anchor=\"start\" x=\"311.5\" y=\"-409.8\" font-family=\"Helvetica,sans-Serif\" font-size=\"14.00\">hue ≤ 0.935</text>\r\n",
       "<text text-anchor=\"start\" x=\"312\" y=\"-394.8\" font-family=\"Helvetica,sans-Serif\" font-size=\"14.00\">gini = 0.227</text>\r\n",
       "<text text-anchor=\"start\" x=\"306\" y=\"-379.8\" font-family=\"Helvetica,sans-Serif\" font-size=\"14.00\">samples = 46</text>\r\n",
       "<text text-anchor=\"start\" x=\"297\" y=\"-364.8\" font-family=\"Helvetica,sans-Serif\" font-size=\"14.00\">value = [0, 6, 40]</text>\r\n",
       "<text text-anchor=\"start\" x=\"300\" y=\"-349.8\" font-family=\"Helvetica,sans-Serif\" font-size=\"14.00\">class = class_2</text>\r\n",
       "</g>\r\n",
       "<!-- 1&#45;&gt;2 -->\r\n",
       "<g id=\"edge2\" class=\"edge\"><title>1&#45;&gt;2</title>\r\n",
       "<path fill=\"none\" stroke=\"black\" d=\"M468.356,-460.907C452.269,-450.566 434.897,-439.398 418.533,-428.878\"/>\r\n",
       "<polygon fill=\"black\" stroke=\"black\" points=\"420.384,-425.908 410.08,-423.444 416.599,-431.796 420.384,-425.908\"/>\r\n",
       "</g>\r\n",
       "<!-- 9 -->\r\n",
       "<g id=\"node10\" class=\"node\"><title>9</title>\r\n",
       "<path fill=\"#39e581\" fill-opacity=\"0.937255\" stroke=\"black\" d=\"M585.5,-425C585.5,-425 477.5,-425 477.5,-425 471.5,-425 465.5,-419 465.5,-413 465.5,-413 465.5,-354 465.5,-354 465.5,-348 471.5,-342 477.5,-342 477.5,-342 585.5,-342 585.5,-342 591.5,-342 597.5,-348 597.5,-354 597.5,-354 597.5,-413 597.5,-413 597.5,-419 591.5,-425 585.5,-425\"/>\r\n",
       "<text text-anchor=\"start\" x=\"473.5\" y=\"-409.8\" font-family=\"Helvetica,sans-Serif\" font-size=\"14.00\">flavanoids ≤ 0.795</text>\r\n",
       "<text text-anchor=\"start\" x=\"494\" y=\"-394.8\" font-family=\"Helvetica,sans-Serif\" font-size=\"14.00\">gini = 0.117</text>\r\n",
       "<text text-anchor=\"start\" x=\"488\" y=\"-379.8\" font-family=\"Helvetica,sans-Serif\" font-size=\"14.00\">samples = 65</text>\r\n",
       "<text text-anchor=\"start\" x=\"479\" y=\"-364.8\" font-family=\"Helvetica,sans-Serif\" font-size=\"14.00\">value = [2, 61, 2]</text>\r\n",
       "<text text-anchor=\"start\" x=\"482\" y=\"-349.8\" font-family=\"Helvetica,sans-Serif\" font-size=\"14.00\">class = class_1</text>\r\n",
       "</g>\r\n",
       "<!-- 1&#45;&gt;9 -->\r\n",
       "<g id=\"edge9\" class=\"edge\"><title>1&#45;&gt;9</title>\r\n",
       "<path fill=\"none\" stroke=\"black\" d=\"M531.5,-460.907C531.5,-452.649 531.5,-443.864 531.5,-435.302\"/>\r\n",
       "<polygon fill=\"black\" stroke=\"black\" points=\"535,-435.021 531.5,-425.021 528,-435.021 535,-435.021\"/>\r\n",
       "</g>\r\n",
       "<!-- 3 -->\r\n",
       "<g id=\"node4\" class=\"node\"><title>3</title>\r\n",
       "<path fill=\"#8139e5\" fill-opacity=\"0.972549\" stroke=\"black\" d=\"M239.5,-306C239.5,-306 139.5,-306 139.5,-306 133.5,-306 127.5,-300 127.5,-294 127.5,-294 127.5,-235 127.5,-235 127.5,-229 133.5,-223 139.5,-223 139.5,-223 239.5,-223 239.5,-223 245.5,-223 251.5,-229 251.5,-235 251.5,-235 251.5,-294 251.5,-294 251.5,-300 245.5,-306 239.5,-306\"/>\r\n",
       "<text text-anchor=\"start\" x=\"135.5\" y=\"-290.8\" font-family=\"Helvetica,sans-Serif\" font-size=\"14.00\">flavanoids ≤ 1.58</text>\r\n",
       "<text text-anchor=\"start\" x=\"152\" y=\"-275.8\" font-family=\"Helvetica,sans-Serif\" font-size=\"14.00\">gini = 0.049</text>\r\n",
       "<text text-anchor=\"start\" x=\"146\" y=\"-260.8\" font-family=\"Helvetica,sans-Serif\" font-size=\"14.00\">samples = 40</text>\r\n",
       "<text text-anchor=\"start\" x=\"137\" y=\"-245.8\" font-family=\"Helvetica,sans-Serif\" font-size=\"14.00\">value = [0, 1, 39]</text>\r\n",
       "<text text-anchor=\"start\" x=\"140\" y=\"-230.8\" font-family=\"Helvetica,sans-Serif\" font-size=\"14.00\">class = class_2</text>\r\n",
       "</g>\r\n",
       "<!-- 2&#45;&gt;3 -->\r\n",
       "<g id=\"edge3\" class=\"edge\"><title>2&#45;&gt;3</title>\r\n",
       "<path fill=\"none\" stroke=\"black\" d=\"M293.989,-341.907C280.834,-332.288 266.701,-321.953 253.213,-312.09\"/>\r\n",
       "<polygon fill=\"black\" stroke=\"black\" points=\"255.051,-309.098 244.913,-306.021 250.919,-314.749 255.051,-309.098\"/>\r\n",
       "</g>\r\n",
       "<!-- 6 -->\r\n",
       "<g id=\"node7\" class=\"node\"><title>6</title>\r\n",
       "<path fill=\"#39e581\" fill-opacity=\"0.800000\" stroke=\"black\" d=\"M417,-306C417,-306 282,-306 282,-306 276,-306 270,-300 270,-294 270,-294 270,-235 270,-235 270,-229 276,-223 282,-223 282,-223 417,-223 417,-223 423,-223 429,-229 429,-235 429,-235 429,-294 429,-294 429,-300 423,-306 417,-306\"/>\r\n",
       "<text text-anchor=\"start\" x=\"278\" y=\"-290.8\" font-family=\"Helvetica,sans-Serif\" font-size=\"14.00\">color_intensity ≤ 5.815</text>\r\n",
       "<text text-anchor=\"start\" x=\"312\" y=\"-275.8\" font-family=\"Helvetica,sans-Serif\" font-size=\"14.00\">gini = 0.278</text>\r\n",
       "<text text-anchor=\"start\" x=\"310\" y=\"-260.8\" font-family=\"Helvetica,sans-Serif\" font-size=\"14.00\">samples = 6</text>\r\n",
       "<text text-anchor=\"start\" x=\"301\" y=\"-245.8\" font-family=\"Helvetica,sans-Serif\" font-size=\"14.00\">value = [0, 5, 1]</text>\r\n",
       "<text text-anchor=\"start\" x=\"300\" y=\"-230.8\" font-family=\"Helvetica,sans-Serif\" font-size=\"14.00\">class = class_1</text>\r\n",
       "</g>\r\n",
       "<!-- 2&#45;&gt;6 -->\r\n",
       "<g id=\"edge6\" class=\"edge\"><title>2&#45;&gt;6</title>\r\n",
       "<path fill=\"none\" stroke=\"black\" d=\"M349.5,-341.907C349.5,-333.649 349.5,-324.864 349.5,-316.302\"/>\r\n",
       "<polygon fill=\"black\" stroke=\"black\" points=\"353,-316.021 349.5,-306.021 346,-316.021 353,-316.021\"/>\r\n",
       "</g>\r\n",
       "<!-- 4 -->\r\n",
       "<g id=\"node5\" class=\"node\"><title>4</title>\r\n",
       "<path fill=\"#8139e5\" stroke=\"black\" d=\"M109,-179.5C109,-179.5 12,-179.5 12,-179.5 6,-179.5 0,-173.5 0,-167.5 0,-167.5 0,-123.5 0,-123.5 0,-117.5 6,-111.5 12,-111.5 12,-111.5 109,-111.5 109,-111.5 115,-111.5 121,-117.5 121,-123.5 121,-123.5 121,-167.5 121,-167.5 121,-173.5 115,-179.5 109,-179.5\"/>\r\n",
       "<text text-anchor=\"start\" x=\"31.5\" y=\"-164.3\" font-family=\"Helvetica,sans-Serif\" font-size=\"14.00\">gini = 0.0</text>\r\n",
       "<text text-anchor=\"start\" x=\"17\" y=\"-149.3\" font-family=\"Helvetica,sans-Serif\" font-size=\"14.00\">samples = 39</text>\r\n",
       "<text text-anchor=\"start\" x=\"8\" y=\"-134.3\" font-family=\"Helvetica,sans-Serif\" font-size=\"14.00\">value = [0, 0, 39]</text>\r\n",
       "<text text-anchor=\"start\" x=\"11\" y=\"-119.3\" font-family=\"Helvetica,sans-Serif\" font-size=\"14.00\">class = class_2</text>\r\n",
       "</g>\r\n",
       "<!-- 3&#45;&gt;4 -->\r\n",
       "<g id=\"edge4\" class=\"edge\"><title>3&#45;&gt;4</title>\r\n",
       "<path fill=\"none\" stroke=\"black\" d=\"M144.744,-222.907C131.726,-211.101 117.521,-198.217 104.547,-186.45\"/>\r\n",
       "<polygon fill=\"black\" stroke=\"black\" points=\"106.827,-183.793 97.0687,-179.667 102.125,-188.978 106.827,-183.793\"/>\r\n",
       "</g>\r\n",
       "<!-- 5 -->\r\n",
       "<g id=\"node6\" class=\"node\"><title>5</title>\r\n",
       "<path fill=\"#39e581\" stroke=\"black\" d=\"M242,-179.5C242,-179.5 151,-179.5 151,-179.5 145,-179.5 139,-173.5 139,-167.5 139,-167.5 139,-123.5 139,-123.5 139,-117.5 145,-111.5 151,-111.5 151,-111.5 242,-111.5 242,-111.5 248,-111.5 254,-117.5 254,-123.5 254,-123.5 254,-167.5 254,-167.5 254,-173.5 248,-179.5 242,-179.5\"/>\r\n",
       "<text text-anchor=\"start\" x=\"167.5\" y=\"-164.3\" font-family=\"Helvetica,sans-Serif\" font-size=\"14.00\">gini = 0.0</text>\r\n",
       "<text text-anchor=\"start\" x=\"157\" y=\"-149.3\" font-family=\"Helvetica,sans-Serif\" font-size=\"14.00\">samples = 1</text>\r\n",
       "<text text-anchor=\"start\" x=\"148\" y=\"-134.3\" font-family=\"Helvetica,sans-Serif\" font-size=\"14.00\">value = [0, 1, 0]</text>\r\n",
       "<text text-anchor=\"start\" x=\"147\" y=\"-119.3\" font-family=\"Helvetica,sans-Serif\" font-size=\"14.00\">class = class_1</text>\r\n",
       "</g>\r\n",
       "<!-- 3&#45;&gt;5 -->\r\n",
       "<g id=\"edge5\" class=\"edge\"><title>3&#45;&gt;5</title>\r\n",
       "<path fill=\"none\" stroke=\"black\" d=\"M191.929,-222.907C192.569,-212.204 193.262,-200.615 193.911,-189.776\"/>\r\n",
       "<polygon fill=\"black\" stroke=\"black\" points=\"197.412,-189.858 194.516,-179.667 190.425,-189.44 197.412,-189.858\"/>\r\n",
       "</g>\r\n",
       "<!-- 7 -->\r\n",
       "<g id=\"node8\" class=\"node\"><title>7</title>\r\n",
       "<path fill=\"#39e581\" stroke=\"black\" d=\"M382,-179.5C382,-179.5 291,-179.5 291,-179.5 285,-179.5 279,-173.5 279,-167.5 279,-167.5 279,-123.5 279,-123.5 279,-117.5 285,-111.5 291,-111.5 291,-111.5 382,-111.5 382,-111.5 388,-111.5 394,-117.5 394,-123.5 394,-123.5 394,-167.5 394,-167.5 394,-173.5 388,-179.5 382,-179.5\"/>\r\n",
       "<text text-anchor=\"start\" x=\"307.5\" y=\"-164.3\" font-family=\"Helvetica,sans-Serif\" font-size=\"14.00\">gini = 0.0</text>\r\n",
       "<text text-anchor=\"start\" x=\"297\" y=\"-149.3\" font-family=\"Helvetica,sans-Serif\" font-size=\"14.00\">samples = 5</text>\r\n",
       "<text text-anchor=\"start\" x=\"288\" y=\"-134.3\" font-family=\"Helvetica,sans-Serif\" font-size=\"14.00\">value = [0, 5, 0]</text>\r\n",
       "<text text-anchor=\"start\" x=\"287\" y=\"-119.3\" font-family=\"Helvetica,sans-Serif\" font-size=\"14.00\">class = class_1</text>\r\n",
       "</g>\r\n",
       "<!-- 6&#45;&gt;7 -->\r\n",
       "<g id=\"edge7\" class=\"edge\"><title>6&#45;&gt;7</title>\r\n",
       "<path fill=\"none\" stroke=\"black\" d=\"M344.99,-222.907C343.8,-212.204 342.513,-200.615 341.308,-189.776\"/>\r\n",
       "<polygon fill=\"black\" stroke=\"black\" points=\"344.768,-189.219 340.185,-179.667 337.811,-189.992 344.768,-189.219\"/>\r\n",
       "</g>\r\n",
       "<!-- 8 -->\r\n",
       "<g id=\"node9\" class=\"node\"><title>8</title>\r\n",
       "<path fill=\"#8139e5\" stroke=\"black\" d=\"M515,-179.5C515,-179.5 424,-179.5 424,-179.5 418,-179.5 412,-173.5 412,-167.5 412,-167.5 412,-123.5 412,-123.5 412,-117.5 418,-111.5 424,-111.5 424,-111.5 515,-111.5 515,-111.5 521,-111.5 527,-117.5 527,-123.5 527,-123.5 527,-167.5 527,-167.5 527,-173.5 521,-179.5 515,-179.5\"/>\r\n",
       "<text text-anchor=\"start\" x=\"440.5\" y=\"-164.3\" font-family=\"Helvetica,sans-Serif\" font-size=\"14.00\">gini = 0.0</text>\r\n",
       "<text text-anchor=\"start\" x=\"430\" y=\"-149.3\" font-family=\"Helvetica,sans-Serif\" font-size=\"14.00\">samples = 1</text>\r\n",
       "<text text-anchor=\"start\" x=\"421\" y=\"-134.3\" font-family=\"Helvetica,sans-Serif\" font-size=\"14.00\">value = [0, 0, 1]</text>\r\n",
       "<text text-anchor=\"start\" x=\"420\" y=\"-119.3\" font-family=\"Helvetica,sans-Serif\" font-size=\"14.00\">class = class_2</text>\r\n",
       "</g>\r\n",
       "<!-- 6&#45;&gt;8 -->\r\n",
       "<g id=\"edge8\" class=\"edge\"><title>6&#45;&gt;8</title>\r\n",
       "<path fill=\"none\" stroke=\"black\" d=\"M391.133,-222.907C403.13,-211.211 416.21,-198.457 428.187,-186.78\"/>\r\n",
       "<polygon fill=\"black\" stroke=\"black\" points=\"430.766,-189.154 435.483,-179.667 425.879,-184.142 430.766,-189.154\"/>\r\n",
       "</g>\r\n",
       "<!-- 10 -->\r\n",
       "<g id=\"node11\" class=\"node\"><title>10</title>\r\n",
       "<path fill=\"#8139e5\" stroke=\"black\" d=\"M550,-298.5C550,-298.5 459,-298.5 459,-298.5 453,-298.5 447,-292.5 447,-286.5 447,-286.5 447,-242.5 447,-242.5 447,-236.5 453,-230.5 459,-230.5 459,-230.5 550,-230.5 550,-230.5 556,-230.5 562,-236.5 562,-242.5 562,-242.5 562,-286.5 562,-286.5 562,-292.5 556,-298.5 550,-298.5\"/>\r\n",
       "<text text-anchor=\"start\" x=\"475.5\" y=\"-283.3\" font-family=\"Helvetica,sans-Serif\" font-size=\"14.00\">gini = 0.0</text>\r\n",
       "<text text-anchor=\"start\" x=\"465\" y=\"-268.3\" font-family=\"Helvetica,sans-Serif\" font-size=\"14.00\">samples = 2</text>\r\n",
       "<text text-anchor=\"start\" x=\"456\" y=\"-253.3\" font-family=\"Helvetica,sans-Serif\" font-size=\"14.00\">value = [0, 0, 2]</text>\r\n",
       "<text text-anchor=\"start\" x=\"455\" y=\"-238.3\" font-family=\"Helvetica,sans-Serif\" font-size=\"14.00\">class = class_2</text>\r\n",
       "</g>\r\n",
       "<!-- 9&#45;&gt;10 -->\r\n",
       "<g id=\"edge10\" class=\"edge\"><title>9&#45;&gt;10</title>\r\n",
       "<path fill=\"none\" stroke=\"black\" d=\"M522.132,-341.907C519.637,-331.094 516.933,-319.376 514.41,-308.441\"/>\r\n",
       "<polygon fill=\"black\" stroke=\"black\" points=\"517.813,-307.624 512.154,-298.667 510.992,-309.198 517.813,-307.624\"/>\r\n",
       "</g>\r\n",
       "<!-- 11 -->\r\n",
       "<g id=\"node12\" class=\"node\"><title>11</title>\r\n",
       "<path fill=\"#39e581\" fill-opacity=\"0.968627\" stroke=\"black\" d=\"M690.5,-306C690.5,-306 592.5,-306 592.5,-306 586.5,-306 580.5,-300 580.5,-294 580.5,-294 580.5,-235 580.5,-235 580.5,-229 586.5,-223 592.5,-223 592.5,-223 690.5,-223 690.5,-223 696.5,-223 702.5,-229 702.5,-235 702.5,-235 702.5,-294 702.5,-294 702.5,-300 696.5,-306 690.5,-306\"/>\r\n",
       "<text text-anchor=\"start\" x=\"588.5\" y=\"-290.8\" font-family=\"Helvetica,sans-Serif\" font-size=\"14.00\">alcohol ≤ 13.175</text>\r\n",
       "<text text-anchor=\"start\" x=\"604\" y=\"-275.8\" font-family=\"Helvetica,sans-Serif\" font-size=\"14.00\">gini = 0.061</text>\r\n",
       "<text text-anchor=\"start\" x=\"598\" y=\"-260.8\" font-family=\"Helvetica,sans-Serif\" font-size=\"14.00\">samples = 63</text>\r\n",
       "<text text-anchor=\"start\" x=\"589\" y=\"-245.8\" font-family=\"Helvetica,sans-Serif\" font-size=\"14.00\">value = [2, 61, 0]</text>\r\n",
       "<text text-anchor=\"start\" x=\"592\" y=\"-230.8\" font-family=\"Helvetica,sans-Serif\" font-size=\"14.00\">class = class_1</text>\r\n",
       "</g>\r\n",
       "<!-- 9&#45;&gt;11 -->\r\n",
       "<g id=\"edge11\" class=\"edge\"><title>9&#45;&gt;11</title>\r\n",
       "<path fill=\"none\" stroke=\"black\" d=\"M569.664,-341.907C578.281,-332.742 587.509,-322.927 596.382,-313.489\"/>\r\n",
       "<polygon fill=\"black\" stroke=\"black\" points=\"599.104,-315.704 603.404,-306.021 594.004,-310.909 599.104,-315.704\"/>\r\n",
       "</g>\r\n",
       "<!-- 12 -->\r\n",
       "<g id=\"node13\" class=\"node\"><title>12</title>\r\n",
       "<path fill=\"#39e581\" stroke=\"black\" d=\"M672,-179.5C672,-179.5 575,-179.5 575,-179.5 569,-179.5 563,-173.5 563,-167.5 563,-167.5 563,-123.5 563,-123.5 563,-117.5 569,-111.5 575,-111.5 575,-111.5 672,-111.5 672,-111.5 678,-111.5 684,-117.5 684,-123.5 684,-123.5 684,-167.5 684,-167.5 684,-173.5 678,-179.5 672,-179.5\"/>\r\n",
       "<text text-anchor=\"start\" x=\"594.5\" y=\"-164.3\" font-family=\"Helvetica,sans-Serif\" font-size=\"14.00\">gini = 0.0</text>\r\n",
       "<text text-anchor=\"start\" x=\"580\" y=\"-149.3\" font-family=\"Helvetica,sans-Serif\" font-size=\"14.00\">samples = 58</text>\r\n",
       "<text text-anchor=\"start\" x=\"571\" y=\"-134.3\" font-family=\"Helvetica,sans-Serif\" font-size=\"14.00\">value = [0, 58, 0]</text>\r\n",
       "<text text-anchor=\"start\" x=\"574\" y=\"-119.3\" font-family=\"Helvetica,sans-Serif\" font-size=\"14.00\">class = class_1</text>\r\n",
       "</g>\r\n",
       "<!-- 11&#45;&gt;12 -->\r\n",
       "<g id=\"edge12\" class=\"edge\"><title>11&#45;&gt;12</title>\r\n",
       "<path fill=\"none\" stroke=\"black\" d=\"M635.255,-222.907C633.608,-212.204 631.825,-200.615 630.158,-189.776\"/>\r\n",
       "<polygon fill=\"black\" stroke=\"black\" points=\"633.583,-189.018 628.603,-179.667 626.664,-190.083 633.583,-189.018\"/>\r\n",
       "</g>\r\n",
       "<!-- 13 -->\r\n",
       "<g id=\"node14\" class=\"node\"><title>13</title>\r\n",
       "<path fill=\"#39e581\" fill-opacity=\"0.333333\" stroke=\"black\" d=\"M826.5,-187C826.5,-187 714.5,-187 714.5,-187 708.5,-187 702.5,-181 702.5,-175 702.5,-175 702.5,-116 702.5,-116 702.5,-110 708.5,-104 714.5,-104 714.5,-104 826.5,-104 826.5,-104 832.5,-104 838.5,-110 838.5,-116 838.5,-116 838.5,-175 838.5,-175 838.5,-181 832.5,-187 826.5,-187\"/>\r\n",
       "<text text-anchor=\"start\" x=\"710.5\" y=\"-171.8\" font-family=\"Helvetica,sans-Serif\" font-size=\"14.00\">malic_acid ≤ 2.125</text>\r\n",
       "<text text-anchor=\"start\" x=\"737\" y=\"-156.8\" font-family=\"Helvetica,sans-Serif\" font-size=\"14.00\">gini = 0.48</text>\r\n",
       "<text text-anchor=\"start\" x=\"731\" y=\"-141.8\" font-family=\"Helvetica,sans-Serif\" font-size=\"14.00\">samples = 5</text>\r\n",
       "<text text-anchor=\"start\" x=\"722\" y=\"-126.8\" font-family=\"Helvetica,sans-Serif\" font-size=\"14.00\">value = [2, 3, 0]</text>\r\n",
       "<text text-anchor=\"start\" x=\"721\" y=\"-111.8\" font-family=\"Helvetica,sans-Serif\" font-size=\"14.00\">class = class_1</text>\r\n",
       "</g>\r\n",
       "<!-- 11&#45;&gt;13 -->\r\n",
       "<g id=\"edge13\" class=\"edge\"><title>11&#45;&gt;13</title>\r\n",
       "<path fill=\"none\" stroke=\"black\" d=\"M686.256,-222.907C696.562,-213.56 707.612,-203.538 718.207,-193.929\"/>\r\n",
       "<polygon fill=\"black\" stroke=\"black\" points=\"720.767,-196.332 725.823,-187.021 716.065,-191.146 720.767,-196.332\"/>\r\n",
       "</g>\r\n",
       "<!-- 14 -->\r\n",
       "<g id=\"node15\" class=\"node\"><title>14</title>\r\n",
       "<path fill=\"#39e581\" stroke=\"black\" d=\"M749,-68C749,-68 658,-68 658,-68 652,-68 646,-62 646,-56 646,-56 646,-12 646,-12 646,-6 652,-0 658,-0 658,-0 749,-0 749,-0 755,-0 761,-6 761,-12 761,-12 761,-56 761,-56 761,-62 755,-68 749,-68\"/>\r\n",
       "<text text-anchor=\"start\" x=\"674.5\" y=\"-52.8\" font-family=\"Helvetica,sans-Serif\" font-size=\"14.00\">gini = 0.0</text>\r\n",
       "<text text-anchor=\"start\" x=\"664\" y=\"-37.8\" font-family=\"Helvetica,sans-Serif\" font-size=\"14.00\">samples = 3</text>\r\n",
       "<text text-anchor=\"start\" x=\"655\" y=\"-22.8\" font-family=\"Helvetica,sans-Serif\" font-size=\"14.00\">value = [0, 3, 0]</text>\r\n",
       "<text text-anchor=\"start\" x=\"654\" y=\"-7.8\" font-family=\"Helvetica,sans-Serif\" font-size=\"14.00\">class = class_1</text>\r\n",
       "</g>\r\n",
       "<!-- 13&#45;&gt;14 -->\r\n",
       "<g id=\"edge14\" class=\"edge\"><title>13&#45;&gt;14</title>\r\n",
       "<path fill=\"none\" stroke=\"black\" d=\"M745.552,-103.726C740.194,-94.9703 734.524,-85.7032 729.141,-76.9051\"/>\r\n",
       "<polygon fill=\"black\" stroke=\"black\" points=\"732.08,-75.0028 723.875,-68.2996 726.109,-78.6563 732.08,-75.0028\"/>\r\n",
       "</g>\r\n",
       "<!-- 15 -->\r\n",
       "<g id=\"node16\" class=\"node\"><title>15</title>\r\n",
       "<path fill=\"#e58139\" stroke=\"black\" d=\"M882,-68C882,-68 791,-68 791,-68 785,-68 779,-62 779,-56 779,-56 779,-12 779,-12 779,-6 785,-0 791,-0 791,-0 882,-0 882,-0 888,-0 894,-6 894,-12 894,-12 894,-56 894,-56 894,-62 888,-68 882,-68\"/>\r\n",
       "<text text-anchor=\"start\" x=\"807.5\" y=\"-52.8\" font-family=\"Helvetica,sans-Serif\" font-size=\"14.00\">gini = 0.0</text>\r\n",
       "<text text-anchor=\"start\" x=\"797\" y=\"-37.8\" font-family=\"Helvetica,sans-Serif\" font-size=\"14.00\">samples = 2</text>\r\n",
       "<text text-anchor=\"start\" x=\"788\" y=\"-22.8\" font-family=\"Helvetica,sans-Serif\" font-size=\"14.00\">value = [2, 0, 0]</text>\r\n",
       "<text text-anchor=\"start\" x=\"787\" y=\"-7.8\" font-family=\"Helvetica,sans-Serif\" font-size=\"14.00\">class = class_0</text>\r\n",
       "</g>\r\n",
       "<!-- 13&#45;&gt;15 -->\r\n",
       "<g id=\"edge15\" class=\"edge\"><title>13&#45;&gt;15</title>\r\n",
       "<path fill=\"none\" stroke=\"black\" d=\"M795.076,-103.726C800.354,-94.9703 805.939,-85.7032 811.242,-76.9051\"/>\r\n",
       "<polygon fill=\"black\" stroke=\"black\" points=\"814.264,-78.671 816.429,-68.2996 808.269,-75.0574 814.264,-78.671\"/>\r\n",
       "</g>\r\n",
       "<!-- 17 -->\r\n",
       "<g id=\"node18\" class=\"node\"><title>17</title>\r\n",
       "<path fill=\"#8139e5\" fill-opacity=\"0.666667\" stroke=\"black\" d=\"M885,-425C885,-425 794,-425 794,-425 788,-425 782,-419 782,-413 782,-413 782,-354 782,-354 782,-348 788,-342 794,-342 794,-342 885,-342 885,-342 891,-342 897,-348 897,-354 897,-354 897,-413 897,-413 897,-419 891,-425 885,-425\"/>\r\n",
       "<text text-anchor=\"start\" x=\"801.5\" y=\"-409.8\" font-family=\"Helvetica,sans-Serif\" font-size=\"14.00\">hue ≤ 0.803</text>\r\n",
       "<text text-anchor=\"start\" x=\"802\" y=\"-394.8\" font-family=\"Helvetica,sans-Serif\" font-size=\"14.00\">gini = 0.375</text>\r\n",
       "<text text-anchor=\"start\" x=\"800\" y=\"-379.8\" font-family=\"Helvetica,sans-Serif\" font-size=\"14.00\">samples = 8</text>\r\n",
       "<text text-anchor=\"start\" x=\"791\" y=\"-364.8\" font-family=\"Helvetica,sans-Serif\" font-size=\"14.00\">value = [0, 2, 6]</text>\r\n",
       "<text text-anchor=\"start\" x=\"790\" y=\"-349.8\" font-family=\"Helvetica,sans-Serif\" font-size=\"14.00\">class = class_2</text>\r\n",
       "</g>\r\n",
       "<!-- 16&#45;&gt;17 -->\r\n",
       "<g id=\"edge17\" class=\"edge\"><title>16&#45;&gt;17</title>\r\n",
       "<path fill=\"none\" stroke=\"black\" d=\"M839.5,-460.907C839.5,-452.649 839.5,-443.864 839.5,-435.302\"/>\r\n",
       "<polygon fill=\"black\" stroke=\"black\" points=\"843,-435.021 839.5,-425.021 836,-435.021 843,-435.021\"/>\r\n",
       "</g>\r\n",
       "<!-- 20 -->\r\n",
       "<g id=\"node21\" class=\"node\"><title>20</title>\r\n",
       "<path fill=\"#e58139\" fill-opacity=\"0.964706\" stroke=\"black\" d=\"M1106.5,-425C1106.5,-425 988.5,-425 988.5,-425 982.5,-425 976.5,-419 976.5,-413 976.5,-413 976.5,-354 976.5,-354 976.5,-348 982.5,-342 988.5,-342 988.5,-342 1106.5,-342 1106.5,-342 1112.5,-342 1118.5,-348 1118.5,-354 1118.5,-354 1118.5,-413 1118.5,-413 1118.5,-419 1112.5,-425 1106.5,-425\"/>\r\n",
       "<text text-anchor=\"start\" x=\"984.5\" y=\"-409.8\" font-family=\"Helvetica,sans-Serif\" font-size=\"14.00\">magnesium ≤ 135.5</text>\r\n",
       "<text text-anchor=\"start\" x=\"1010\" y=\"-394.8\" font-family=\"Helvetica,sans-Serif\" font-size=\"14.00\">gini = 0.065</text>\r\n",
       "<text text-anchor=\"start\" x=\"1004\" y=\"-379.8\" font-family=\"Helvetica,sans-Serif\" font-size=\"14.00\">samples = 59</text>\r\n",
       "<text text-anchor=\"start\" x=\"995\" y=\"-364.8\" font-family=\"Helvetica,sans-Serif\" font-size=\"14.00\">value = [57, 2, 0]</text>\r\n",
       "<text text-anchor=\"start\" x=\"998\" y=\"-349.8\" font-family=\"Helvetica,sans-Serif\" font-size=\"14.00\">class = class_0</text>\r\n",
       "</g>\r\n",
       "<!-- 16&#45;&gt;20 -->\r\n",
       "<g id=\"edge20\" class=\"edge\"><title>16&#45;&gt;20</title>\r\n",
       "<path fill=\"none\" stroke=\"black\" d=\"M905.598,-464.32C925.183,-453.303 946.845,-441.119 967.223,-429.656\"/>\r\n",
       "<polygon fill=\"black\" stroke=\"black\" points=\"969.175,-432.574 976.175,-424.621 965.743,-426.473 969.175,-432.574\"/>\r\n",
       "</g>\r\n",
       "<!-- 18 -->\r\n",
       "<g id=\"node19\" class=\"node\"><title>18</title>\r\n",
       "<path fill=\"#8139e5\" stroke=\"black\" d=\"M824,-298.5C824,-298.5 733,-298.5 733,-298.5 727,-298.5 721,-292.5 721,-286.5 721,-286.5 721,-242.5 721,-242.5 721,-236.5 727,-230.5 733,-230.5 733,-230.5 824,-230.5 824,-230.5 830,-230.5 836,-236.5 836,-242.5 836,-242.5 836,-286.5 836,-286.5 836,-292.5 830,-298.5 824,-298.5\"/>\r\n",
       "<text text-anchor=\"start\" x=\"749.5\" y=\"-283.3\" font-family=\"Helvetica,sans-Serif\" font-size=\"14.00\">gini = 0.0</text>\r\n",
       "<text text-anchor=\"start\" x=\"739\" y=\"-268.3\" font-family=\"Helvetica,sans-Serif\" font-size=\"14.00\">samples = 6</text>\r\n",
       "<text text-anchor=\"start\" x=\"730\" y=\"-253.3\" font-family=\"Helvetica,sans-Serif\" font-size=\"14.00\">value = [0, 0, 6]</text>\r\n",
       "<text text-anchor=\"start\" x=\"729\" y=\"-238.3\" font-family=\"Helvetica,sans-Serif\" font-size=\"14.00\">class = class_2</text>\r\n",
       "</g>\r\n",
       "<!-- 17&#45;&gt;18 -->\r\n",
       "<g id=\"edge18\" class=\"edge\"><title>17&#45;&gt;18</title>\r\n",
       "<path fill=\"none\" stroke=\"black\" d=\"M818.336,-341.907C812.583,-330.873 806.34,-318.898 800.54,-307.773\"/>\r\n",
       "<polygon fill=\"black\" stroke=\"black\" points=\"803.519,-305.916 795.792,-298.667 797.312,-309.152 803.519,-305.916\"/>\r\n",
       "</g>\r\n",
       "<!-- 19 -->\r\n",
       "<g id=\"node20\" class=\"node\"><title>19</title>\r\n",
       "<path fill=\"#39e581\" stroke=\"black\" d=\"M957,-298.5C957,-298.5 866,-298.5 866,-298.5 860,-298.5 854,-292.5 854,-286.5 854,-286.5 854,-242.5 854,-242.5 854,-236.5 860,-230.5 866,-230.5 866,-230.5 957,-230.5 957,-230.5 963,-230.5 969,-236.5 969,-242.5 969,-242.5 969,-286.5 969,-286.5 969,-292.5 963,-298.5 957,-298.5\"/>\r\n",
       "<text text-anchor=\"start\" x=\"882.5\" y=\"-283.3\" font-family=\"Helvetica,sans-Serif\" font-size=\"14.00\">gini = 0.0</text>\r\n",
       "<text text-anchor=\"start\" x=\"872\" y=\"-268.3\" font-family=\"Helvetica,sans-Serif\" font-size=\"14.00\">samples = 2</text>\r\n",
       "<text text-anchor=\"start\" x=\"863\" y=\"-253.3\" font-family=\"Helvetica,sans-Serif\" font-size=\"14.00\">value = [0, 2, 0]</text>\r\n",
       "<text text-anchor=\"start\" x=\"862\" y=\"-238.3\" font-family=\"Helvetica,sans-Serif\" font-size=\"14.00\">class = class_1</text>\r\n",
       "</g>\r\n",
       "<!-- 17&#45;&gt;19 -->\r\n",
       "<g id=\"edge19\" class=\"edge\"><title>17&#45;&gt;19</title>\r\n",
       "<path fill=\"none\" stroke=\"black\" d=\"M864.48,-341.907C871.338,-330.763 878.787,-318.658 885.691,-307.439\"/>\r\n",
       "<polygon fill=\"black\" stroke=\"black\" points=\"888.829,-309.018 891.09,-298.667 882.868,-305.349 888.829,-309.018\"/>\r\n",
       "</g>\r\n",
       "<!-- 21 -->\r\n",
       "<g id=\"node22\" class=\"node\"><title>21</title>\r\n",
       "<path fill=\"#e58139\" stroke=\"black\" d=\"M1096,-298.5C1096,-298.5 999,-298.5 999,-298.5 993,-298.5 987,-292.5 987,-286.5 987,-286.5 987,-242.5 987,-242.5 987,-236.5 993,-230.5 999,-230.5 999,-230.5 1096,-230.5 1096,-230.5 1102,-230.5 1108,-236.5 1108,-242.5 1108,-242.5 1108,-286.5 1108,-286.5 1108,-292.5 1102,-298.5 1096,-298.5\"/>\r\n",
       "<text text-anchor=\"start\" x=\"1018.5\" y=\"-283.3\" font-family=\"Helvetica,sans-Serif\" font-size=\"14.00\">gini = 0.0</text>\r\n",
       "<text text-anchor=\"start\" x=\"1004\" y=\"-268.3\" font-family=\"Helvetica,sans-Serif\" font-size=\"14.00\">samples = 57</text>\r\n",
       "<text text-anchor=\"start\" x=\"995\" y=\"-253.3\" font-family=\"Helvetica,sans-Serif\" font-size=\"14.00\">value = [57, 0, 0]</text>\r\n",
       "<text text-anchor=\"start\" x=\"998\" y=\"-238.3\" font-family=\"Helvetica,sans-Serif\" font-size=\"14.00\">class = class_0</text>\r\n",
       "</g>\r\n",
       "<!-- 20&#45;&gt;21 -->\r\n",
       "<g id=\"edge21\" class=\"edge\"><title>20&#45;&gt;21</title>\r\n",
       "<path fill=\"none\" stroke=\"black\" d=\"M1047.5,-341.907C1047.5,-331.204 1047.5,-319.615 1047.5,-308.776\"/>\r\n",
       "<polygon fill=\"black\" stroke=\"black\" points=\"1051,-308.667 1047.5,-298.667 1044,-308.667 1051,-308.667\"/>\r\n",
       "</g>\r\n",
       "<!-- 22 -->\r\n",
       "<g id=\"node23\" class=\"node\"><title>22</title>\r\n",
       "<path fill=\"#39e581\" stroke=\"black\" d=\"M1229,-298.5C1229,-298.5 1138,-298.5 1138,-298.5 1132,-298.5 1126,-292.5 1126,-286.5 1126,-286.5 1126,-242.5 1126,-242.5 1126,-236.5 1132,-230.5 1138,-230.5 1138,-230.5 1229,-230.5 1229,-230.5 1235,-230.5 1241,-236.5 1241,-242.5 1241,-242.5 1241,-286.5 1241,-286.5 1241,-292.5 1235,-298.5 1229,-298.5\"/>\r\n",
       "<text text-anchor=\"start\" x=\"1154.5\" y=\"-283.3\" font-family=\"Helvetica,sans-Serif\" font-size=\"14.00\">gini = 0.0</text>\r\n",
       "<text text-anchor=\"start\" x=\"1144\" y=\"-268.3\" font-family=\"Helvetica,sans-Serif\" font-size=\"14.00\">samples = 2</text>\r\n",
       "<text text-anchor=\"start\" x=\"1135\" y=\"-253.3\" font-family=\"Helvetica,sans-Serif\" font-size=\"14.00\">value = [0, 2, 0]</text>\r\n",
       "<text text-anchor=\"start\" x=\"1134\" y=\"-238.3\" font-family=\"Helvetica,sans-Serif\" font-size=\"14.00\">class = class_1</text>\r\n",
       "</g>\r\n",
       "<!-- 20&#45;&gt;22 -->\r\n",
       "<g id=\"edge22\" class=\"edge\"><title>20&#45;&gt;22</title>\r\n",
       "<path fill=\"none\" stroke=\"black\" d=\"M1094.68,-341.907C1108.41,-330.101 1123.39,-317.217 1137.06,-305.45\"/>\r\n",
       "<polygon fill=\"black\" stroke=\"black\" points=\"1139.65,-307.842 1144.95,-298.667 1135.08,-302.535 1139.65,-307.842\"/>\r\n",
       "</g>\r\n",
       "</g>\r\n",
       "</svg>\r\n"
      ],
      "text/plain": [
       "<graphviz.files.Source at 0x1b7e2daa9e8>"
      ]
     },
     "execution_count": 72,
     "metadata": {},
     "output_type": "execute_result"
    }
   ],
   "source": [
    "###################### print decision tree visualization\n",
    "dot_data = tree.export_graphviz(clf, out_file=None) \n",
    "graph = graphviz.Source(dot_data) \n",
    "graph.render(\"wine\") \n",
    "dot_data = tree.export_graphviz(clf, out_file=None, \n",
    "                         feature_names=wine.feature_names,  \n",
    "                         class_names=wine.target_names,  \n",
    "                         filled=True, rounded=True,\n",
    "                         special_characters=True)  \n",
    "graph = graphviz.Source(dot_data)  \n",
    "graph "
   ]
  },
  {
   "cell_type": "code",
   "execution_count": 73,
   "metadata": {},
   "outputs": [],
   "source": [
    "#################### set criterion to entropy\n",
    "clf = tree.DecisionTreeClassifier(criterion='entropy')\n",
    "clf = clf.fit(wine.data, wine.target)"
   ]
  },
  {
   "cell_type": "code",
   "execution_count": 74,
   "metadata": {},
   "outputs": [
    {
     "data": {
      "image/svg+xml": [
       "<?xml version=\"1.0\" encoding=\"UTF-8\" standalone=\"no\"?>\r\n",
       "<!DOCTYPE svg PUBLIC \"-//W3C//DTD SVG 1.1//EN\"\r\n",
       " \"http://www.w3.org/Graphics/SVG/1.1/DTD/svg11.dtd\">\r\n",
       "<!-- Generated by graphviz version 2.38.0 (20140413.2041)\r\n",
       " -->\r\n",
       "<!-- Title: Tree Pages: 1 -->\r\n",
       "<svg width=\"811pt\" height=\"552pt\"\r\n",
       " viewBox=\"0.00 0.00 811.00 552.00\" xmlns=\"http://www.w3.org/2000/svg\" xmlns:xlink=\"http://www.w3.org/1999/xlink\">\r\n",
       "<g id=\"graph0\" class=\"graph\" transform=\"scale(1 1) rotate(0) translate(4 548)\">\r\n",
       "<title>Tree</title>\r\n",
       "<polygon fill=\"white\" stroke=\"none\" points=\"-4,4 -4,-548 807,-548 807,4 -4,4\"/>\r\n",
       "<!-- 0 -->\r\n",
       "<g id=\"node1\" class=\"node\"><title>0</title>\r\n",
       "<path fill=\"#39e581\" fill-opacity=\"0.101961\" stroke=\"black\" d=\"M359,-544C359,-544 246,-544 246,-544 240,-544 234,-538 234,-532 234,-532 234,-473 234,-473 234,-467 240,-461 246,-461 246,-461 359,-461 359,-461 365,-461 371,-467 371,-473 371,-473 371,-532 371,-532 371,-538 365,-544 359,-544\"/>\r\n",
       "<text text-anchor=\"start\" x=\"244.5\" y=\"-528.8\" font-family=\"Helvetica,sans-Serif\" font-size=\"14.00\">flavanoids ≤ 1.575</text>\r\n",
       "<text text-anchor=\"start\" x=\"252.5\" y=\"-513.8\" font-family=\"Helvetica,sans-Serif\" font-size=\"14.00\">entropy = 1.567</text>\r\n",
       "<text text-anchor=\"start\" x=\"255\" y=\"-498.8\" font-family=\"Helvetica,sans-Serif\" font-size=\"14.00\">samples = 178</text>\r\n",
       "<text text-anchor=\"start\" x=\"242\" y=\"-483.8\" font-family=\"Helvetica,sans-Serif\" font-size=\"14.00\">value = [59, 71, 48]</text>\r\n",
       "<text text-anchor=\"start\" x=\"253\" y=\"-468.8\" font-family=\"Helvetica,sans-Serif\" font-size=\"14.00\">class = class_1</text>\r\n",
       "</g>\r\n",
       "<!-- 1 -->\r\n",
       "<g id=\"node2\" class=\"node\"><title>1</title>\r\n",
       "<path fill=\"#8139e5\" fill-opacity=\"0.709804\" stroke=\"black\" d=\"M267,-425C267,-425 132,-425 132,-425 126,-425 120,-419 120,-413 120,-413 120,-354 120,-354 120,-348 126,-342 132,-342 132,-342 267,-342 267,-342 273,-342 279,-348 279,-354 279,-354 279,-413 279,-413 279,-419 273,-425 267,-425\"/>\r\n",
       "<text text-anchor=\"start\" x=\"128\" y=\"-409.8\" font-family=\"Helvetica,sans-Serif\" font-size=\"14.00\">color_intensity ≤ 3.825</text>\r\n",
       "<text text-anchor=\"start\" x=\"149.5\" y=\"-394.8\" font-family=\"Helvetica,sans-Serif\" font-size=\"14.00\">entropy = 0.771</text>\r\n",
       "<text text-anchor=\"start\" x=\"156\" y=\"-379.8\" font-family=\"Helvetica,sans-Serif\" font-size=\"14.00\">samples = 62</text>\r\n",
       "<text text-anchor=\"start\" x=\"143\" y=\"-364.8\" font-family=\"Helvetica,sans-Serif\" font-size=\"14.00\">value = [0, 14, 48]</text>\r\n",
       "<text text-anchor=\"start\" x=\"150\" y=\"-349.8\" font-family=\"Helvetica,sans-Serif\" font-size=\"14.00\">class = class_2</text>\r\n",
       "</g>\r\n",
       "<!-- 0&#45;&gt;1 -->\r\n",
       "<g id=\"edge1\" class=\"edge\"><title>0&#45;&gt;1</title>\r\n",
       "<path fill=\"none\" stroke=\"black\" d=\"M266.765,-460.907C258.775,-451.832 250.226,-442.121 241.994,-432.769\"/>\r\n",
       "<polygon fill=\"black\" stroke=\"black\" points=\"244.407,-430.214 235.172,-425.021 239.153,-434.839 244.407,-430.214\"/>\r\n",
       "<text text-anchor=\"middle\" x=\"233.584\" y=\"-446.27\" font-family=\"Helvetica,sans-Serif\" font-size=\"14.00\">True</text>\r\n",
       "</g>\r\n",
       "<!-- 6 -->\r\n",
       "<g id=\"node7\" class=\"node\"><title>6</title>\r\n",
       "<path fill=\"#e58139\" fill-opacity=\"0.035294\" stroke=\"black\" d=\"M459,-425C459,-425 354,-425 354,-425 348,-425 342,-419 342,-413 342,-413 342,-354 342,-354 342,-348 348,-342 354,-342 354,-342 459,-342 459,-342 465,-342 471,-348 471,-354 471,-354 471,-413 471,-413 471,-419 465,-425 459,-425\"/>\r\n",
       "<text text-anchor=\"start\" x=\"359\" y=\"-409.8\" font-family=\"Helvetica,sans-Serif\" font-size=\"14.00\">proline ≤ 724.5</text>\r\n",
       "<text text-anchor=\"start\" x=\"364.5\" y=\"-394.8\" font-family=\"Helvetica,sans-Serif\" font-size=\"14.00\">entropy = 1.0</text>\r\n",
       "<text text-anchor=\"start\" x=\"359\" y=\"-379.8\" font-family=\"Helvetica,sans-Serif\" font-size=\"14.00\">samples = 116</text>\r\n",
       "<text text-anchor=\"start\" x=\"350\" y=\"-364.8\" font-family=\"Helvetica,sans-Serif\" font-size=\"14.00\">value = [59, 57, 0]</text>\r\n",
       "<text text-anchor=\"start\" x=\"357\" y=\"-349.8\" font-family=\"Helvetica,sans-Serif\" font-size=\"14.00\">class = class_0</text>\r\n",
       "</g>\r\n",
       "<!-- 0&#45;&gt;6 -->\r\n",
       "<g id=\"edge6\" class=\"edge\"><title>0&#45;&gt;6</title>\r\n",
       "<path fill=\"none\" stroke=\"black\" d=\"M338.582,-460.907C346.649,-451.832 355.281,-442.121 363.594,-432.769\"/>\r\n",
       "<polygon fill=\"black\" stroke=\"black\" points=\"366.454,-434.82 370.482,-425.021 361.222,-430.17 366.454,-434.82\"/>\r\n",
       "<text text-anchor=\"middle\" x=\"371.95\" y=\"-446.278\" font-family=\"Helvetica,sans-Serif\" font-size=\"14.00\">False</text>\r\n",
       "</g>\r\n",
       "<!-- 2 -->\r\n",
       "<g id=\"node3\" class=\"node\"><title>2</title>\r\n",
       "<path fill=\"#39e581\" stroke=\"black\" d=\"M109,-298.5C109,-298.5 12,-298.5 12,-298.5 6,-298.5 0,-292.5 0,-286.5 0,-286.5 0,-242.5 0,-242.5 0,-236.5 6,-230.5 12,-230.5 12,-230.5 109,-230.5 109,-230.5 115,-230.5 121,-236.5 121,-242.5 121,-242.5 121,-286.5 121,-286.5 121,-292.5 115,-298.5 109,-298.5\"/>\r\n",
       "<text text-anchor=\"start\" x=\"18.5\" y=\"-283.3\" font-family=\"Helvetica,sans-Serif\" font-size=\"14.00\">entropy = 0.0</text>\r\n",
       "<text text-anchor=\"start\" x=\"17\" y=\"-268.3\" font-family=\"Helvetica,sans-Serif\" font-size=\"14.00\">samples = 13</text>\r\n",
       "<text text-anchor=\"start\" x=\"8\" y=\"-253.3\" font-family=\"Helvetica,sans-Serif\" font-size=\"14.00\">value = [0, 13, 0]</text>\r\n",
       "<text text-anchor=\"start\" x=\"11\" y=\"-238.3\" font-family=\"Helvetica,sans-Serif\" font-size=\"14.00\">class = class_1</text>\r\n",
       "</g>\r\n",
       "<!-- 1&#45;&gt;2 -->\r\n",
       "<g id=\"edge2\" class=\"edge\"><title>1&#45;&gt;2</title>\r\n",
       "<path fill=\"none\" stroke=\"black\" d=\"M151.275,-341.907C137.117,-329.99 121.655,-316.976 107.57,-305.12\"/>\r\n",
       "<polygon fill=\"black\" stroke=\"black\" points=\"109.808,-302.429 99.9035,-298.667 105.3,-307.784 109.808,-302.429\"/>\r\n",
       "</g>\r\n",
       "<!-- 3 -->\r\n",
       "<g id=\"node4\" class=\"node\"><title>3</title>\r\n",
       "<path fill=\"#8139e5\" fill-opacity=\"0.980392\" stroke=\"black\" d=\"M248,-306C248,-306 151,-306 151,-306 145,-306 139,-300 139,-294 139,-294 139,-235 139,-235 139,-229 145,-223 151,-223 151,-223 248,-223 248,-223 254,-223 260,-229 260,-235 260,-235 260,-294 260,-294 260,-300 254,-306 248,-306\"/>\r\n",
       "<text text-anchor=\"start\" x=\"166\" y=\"-290.8\" font-family=\"Helvetica,sans-Serif\" font-size=\"14.00\">hue ≤ 0.97</text>\r\n",
       "<text text-anchor=\"start\" x=\"149.5\" y=\"-275.8\" font-family=\"Helvetica,sans-Serif\" font-size=\"14.00\">entropy = 0.144</text>\r\n",
       "<text text-anchor=\"start\" x=\"156\" y=\"-260.8\" font-family=\"Helvetica,sans-Serif\" font-size=\"14.00\">samples = 49</text>\r\n",
       "<text text-anchor=\"start\" x=\"147\" y=\"-245.8\" font-family=\"Helvetica,sans-Serif\" font-size=\"14.00\">value = [0, 1, 48]</text>\r\n",
       "<text text-anchor=\"start\" x=\"150\" y=\"-230.8\" font-family=\"Helvetica,sans-Serif\" font-size=\"14.00\">class = class_2</text>\r\n",
       "</g>\r\n",
       "<!-- 1&#45;&gt;3 -->\r\n",
       "<g id=\"edge3\" class=\"edge\"><title>1&#45;&gt;3</title>\r\n",
       "<path fill=\"none\" stroke=\"black\" d=\"M199.5,-341.907C199.5,-333.649 199.5,-324.864 199.5,-316.302\"/>\r\n",
       "<polygon fill=\"black\" stroke=\"black\" points=\"203,-316.021 199.5,-306.021 196,-316.021 203,-316.021\"/>\r\n",
       "</g>\r\n",
       "<!-- 4 -->\r\n",
       "<g id=\"node5\" class=\"node\"><title>4</title>\r\n",
       "<path fill=\"#8139e5\" stroke=\"black\" d=\"M112,-179.5C112,-179.5 15,-179.5 15,-179.5 9,-179.5 3,-173.5 3,-167.5 3,-167.5 3,-123.5 3,-123.5 3,-117.5 9,-111.5 15,-111.5 15,-111.5 112,-111.5 112,-111.5 118,-111.5 124,-117.5 124,-123.5 124,-123.5 124,-167.5 124,-167.5 124,-173.5 118,-179.5 112,-179.5\"/>\r\n",
       "<text text-anchor=\"start\" x=\"21.5\" y=\"-164.3\" font-family=\"Helvetica,sans-Serif\" font-size=\"14.00\">entropy = 0.0</text>\r\n",
       "<text text-anchor=\"start\" x=\"20\" y=\"-149.3\" font-family=\"Helvetica,sans-Serif\" font-size=\"14.00\">samples = 48</text>\r\n",
       "<text text-anchor=\"start\" x=\"11\" y=\"-134.3\" font-family=\"Helvetica,sans-Serif\" font-size=\"14.00\">value = [0, 0, 48]</text>\r\n",
       "<text text-anchor=\"start\" x=\"14\" y=\"-119.3\" font-family=\"Helvetica,sans-Serif\" font-size=\"14.00\">class = class_2</text>\r\n",
       "</g>\r\n",
       "<!-- 3&#45;&gt;4 -->\r\n",
       "<g id=\"edge4\" class=\"edge\"><title>3&#45;&gt;4</title>\r\n",
       "<path fill=\"none\" stroke=\"black\" d=\"M152.315,-222.907C138.591,-211.101 123.615,-198.217 109.937,-186.45\"/>\r\n",
       "<polygon fill=\"black\" stroke=\"black\" points=\"111.916,-183.535 102.053,-179.667 107.351,-188.842 111.916,-183.535\"/>\r\n",
       "</g>\r\n",
       "<!-- 5 -->\r\n",
       "<g id=\"node6\" class=\"node\"><title>5</title>\r\n",
       "<path fill=\"#39e581\" stroke=\"black\" d=\"M245,-179.5C245,-179.5 154,-179.5 154,-179.5 148,-179.5 142,-173.5 142,-167.5 142,-167.5 142,-123.5 142,-123.5 142,-117.5 148,-111.5 154,-111.5 154,-111.5 245,-111.5 245,-111.5 251,-111.5 257,-117.5 257,-123.5 257,-123.5 257,-167.5 257,-167.5 257,-173.5 251,-179.5 245,-179.5\"/>\r\n",
       "<text text-anchor=\"start\" x=\"157.5\" y=\"-164.3\" font-family=\"Helvetica,sans-Serif\" font-size=\"14.00\">entropy = 0.0</text>\r\n",
       "<text text-anchor=\"start\" x=\"160\" y=\"-149.3\" font-family=\"Helvetica,sans-Serif\" font-size=\"14.00\">samples = 1</text>\r\n",
       "<text text-anchor=\"start\" x=\"151\" y=\"-134.3\" font-family=\"Helvetica,sans-Serif\" font-size=\"14.00\">value = [0, 1, 0]</text>\r\n",
       "<text text-anchor=\"start\" x=\"150\" y=\"-119.3\" font-family=\"Helvetica,sans-Serif\" font-size=\"14.00\">class = class_1</text>\r\n",
       "</g>\r\n",
       "<!-- 3&#45;&gt;5 -->\r\n",
       "<g id=\"edge5\" class=\"edge\"><title>3&#45;&gt;5</title>\r\n",
       "<path fill=\"none\" stroke=\"black\" d=\"M199.5,-222.907C199.5,-212.204 199.5,-200.615 199.5,-189.776\"/>\r\n",
       "<polygon fill=\"black\" stroke=\"black\" points=\"203,-189.667 199.5,-179.667 196,-189.667 203,-189.667\"/>\r\n",
       "</g>\r\n",
       "<!-- 7 -->\r\n",
       "<g id=\"node8\" class=\"node\"><title>7</title>\r\n",
       "<path fill=\"#39e581\" fill-opacity=\"0.980392\" stroke=\"black\" d=\"M455.5,-306C455.5,-306 357.5,-306 357.5,-306 351.5,-306 345.5,-300 345.5,-294 345.5,-294 345.5,-235 345.5,-235 345.5,-229 351.5,-223 357.5,-223 357.5,-223 455.5,-223 455.5,-223 461.5,-223 467.5,-229 467.5,-235 467.5,-235 467.5,-294 467.5,-294 467.5,-300 461.5,-306 455.5,-306\"/>\r\n",
       "<text text-anchor=\"start\" x=\"353.5\" y=\"-290.8\" font-family=\"Helvetica,sans-Serif\" font-size=\"14.00\">alcohol ≤ 13.175</text>\r\n",
       "<text text-anchor=\"start\" x=\"356.5\" y=\"-275.8\" font-family=\"Helvetica,sans-Serif\" font-size=\"14.00\">entropy = 0.133</text>\r\n",
       "<text text-anchor=\"start\" x=\"363\" y=\"-260.8\" font-family=\"Helvetica,sans-Serif\" font-size=\"14.00\">samples = 54</text>\r\n",
       "<text text-anchor=\"start\" x=\"354\" y=\"-245.8\" font-family=\"Helvetica,sans-Serif\" font-size=\"14.00\">value = [1, 53, 0]</text>\r\n",
       "<text text-anchor=\"start\" x=\"357\" y=\"-230.8\" font-family=\"Helvetica,sans-Serif\" font-size=\"14.00\">class = class_1</text>\r\n",
       "</g>\r\n",
       "<!-- 6&#45;&gt;7 -->\r\n",
       "<g id=\"edge7\" class=\"edge\"><title>6&#45;&gt;7</title>\r\n",
       "<path fill=\"none\" stroke=\"black\" d=\"M406.5,-341.907C406.5,-333.649 406.5,-324.864 406.5,-316.302\"/>\r\n",
       "<polygon fill=\"black\" stroke=\"black\" points=\"410,-316.021 406.5,-306.021 403,-316.021 410,-316.021\"/>\r\n",
       "</g>\r\n",
       "<!-- 12 -->\r\n",
       "<g id=\"node13\" class=\"node\"><title>12</title>\r\n",
       "<path fill=\"#e58139\" fill-opacity=\"0.929412\" stroke=\"black\" d=\"M670,-306C670,-306 543,-306 543,-306 537,-306 531,-300 531,-294 531,-294 531,-235 531,-235 531,-229 537,-223 543,-223 543,-223 670,-223 670,-223 676,-223 682,-229 682,-235 682,-235 682,-294 682,-294 682,-300 676,-306 670,-306\"/>\r\n",
       "<text text-anchor=\"start\" x=\"539\" y=\"-290.8\" font-family=\"Helvetica,sans-Serif\" font-size=\"14.00\">color_intensity ≤ 3.46</text>\r\n",
       "<text text-anchor=\"start\" x=\"556.5\" y=\"-275.8\" font-family=\"Helvetica,sans-Serif\" font-size=\"14.00\">entropy = 0.345</text>\r\n",
       "<text text-anchor=\"start\" x=\"563\" y=\"-260.8\" font-family=\"Helvetica,sans-Serif\" font-size=\"14.00\">samples = 62</text>\r\n",
       "<text text-anchor=\"start\" x=\"554\" y=\"-245.8\" font-family=\"Helvetica,sans-Serif\" font-size=\"14.00\">value = [58, 4, 0]</text>\r\n",
       "<text text-anchor=\"start\" x=\"557\" y=\"-230.8\" font-family=\"Helvetica,sans-Serif\" font-size=\"14.00\">class = class_0</text>\r\n",
       "</g>\r\n",
       "<!-- 6&#45;&gt;12 -->\r\n",
       "<g id=\"edge12\" class=\"edge\"><title>6&#45;&gt;12</title>\r\n",
       "<path fill=\"none\" stroke=\"black\" d=\"M471.158,-344.675C489.467,-333.964 509.591,-322.192 528.594,-311.075\"/>\r\n",
       "<polygon fill=\"black\" stroke=\"black\" points=\"530.371,-314.09 537.235,-306.02 526.836,-308.048 530.371,-314.09\"/>\r\n",
       "</g>\r\n",
       "<!-- 8 -->\r\n",
       "<g id=\"node9\" class=\"node\"><title>8</title>\r\n",
       "<path fill=\"#39e581\" stroke=\"black\" d=\"M384,-179.5C384,-179.5 287,-179.5 287,-179.5 281,-179.5 275,-173.5 275,-167.5 275,-167.5 275,-123.5 275,-123.5 275,-117.5 281,-111.5 287,-111.5 287,-111.5 384,-111.5 384,-111.5 390,-111.5 396,-117.5 396,-123.5 396,-123.5 396,-167.5 396,-167.5 396,-173.5 390,-179.5 384,-179.5\"/>\r\n",
       "<text text-anchor=\"start\" x=\"293.5\" y=\"-164.3\" font-family=\"Helvetica,sans-Serif\" font-size=\"14.00\">entropy = 0.0</text>\r\n",
       "<text text-anchor=\"start\" x=\"292\" y=\"-149.3\" font-family=\"Helvetica,sans-Serif\" font-size=\"14.00\">samples = 50</text>\r\n",
       "<text text-anchor=\"start\" x=\"283\" y=\"-134.3\" font-family=\"Helvetica,sans-Serif\" font-size=\"14.00\">value = [0, 50, 0]</text>\r\n",
       "<text text-anchor=\"start\" x=\"286\" y=\"-119.3\" font-family=\"Helvetica,sans-Serif\" font-size=\"14.00\">class = class_1</text>\r\n",
       "</g>\r\n",
       "<!-- 7&#45;&gt;8 -->\r\n",
       "<g id=\"edge8\" class=\"edge\"><title>7&#45;&gt;8</title>\r\n",
       "<path fill=\"none\" stroke=\"black\" d=\"M381.867,-222.907C375.104,-211.763 367.758,-199.658 360.95,-188.439\"/>\r\n",
       "<polygon fill=\"black\" stroke=\"black\" points=\"363.807,-186.4 355.627,-179.667 357.823,-190.032 363.807,-186.4\"/>\r\n",
       "</g>\r\n",
       "<!-- 9 -->\r\n",
       "<g id=\"node10\" class=\"node\"><title>9</title>\r\n",
       "<path fill=\"#39e581\" fill-opacity=\"0.666667\" stroke=\"black\" d=\"M518.5,-187C518.5,-187 426.5,-187 426.5,-187 420.5,-187 414.5,-181 414.5,-175 414.5,-175 414.5,-116 414.5,-116 414.5,-110 420.5,-104 426.5,-104 426.5,-104 518.5,-104 518.5,-104 524.5,-104 530.5,-110 530.5,-116 530.5,-116 530.5,-175 530.5,-175 530.5,-181 524.5,-187 518.5,-187\"/>\r\n",
       "<text text-anchor=\"start\" x=\"425\" y=\"-171.8\" font-family=\"Helvetica,sans-Serif\" font-size=\"14.00\">proline ≤ 655.0</text>\r\n",
       "<text text-anchor=\"start\" x=\"422.5\" y=\"-156.8\" font-family=\"Helvetica,sans-Serif\" font-size=\"14.00\">entropy = 0.811</text>\r\n",
       "<text text-anchor=\"start\" x=\"433\" y=\"-141.8\" font-family=\"Helvetica,sans-Serif\" font-size=\"14.00\">samples = 4</text>\r\n",
       "<text text-anchor=\"start\" x=\"424\" y=\"-126.8\" font-family=\"Helvetica,sans-Serif\" font-size=\"14.00\">value = [1, 3, 0]</text>\r\n",
       "<text text-anchor=\"start\" x=\"423\" y=\"-111.8\" font-family=\"Helvetica,sans-Serif\" font-size=\"14.00\">class = class_1</text>\r\n",
       "</g>\r\n",
       "<!-- 7&#45;&gt;9 -->\r\n",
       "<g id=\"edge9\" class=\"edge\"><title>7&#45;&gt;9</title>\r\n",
       "<path fill=\"none\" stroke=\"black\" d=\"M429.398,-222.907C434.313,-214.195 439.558,-204.897 444.637,-195.893\"/>\r\n",
       "<polygon fill=\"black\" stroke=\"black\" points=\"447.777,-197.45 449.642,-187.021 441.68,-194.011 447.777,-197.45\"/>\r\n",
       "</g>\r\n",
       "<!-- 10 -->\r\n",
       "<g id=\"node11\" class=\"node\"><title>10</title>\r\n",
       "<path fill=\"#39e581\" stroke=\"black\" d=\"M451,-68C451,-68 360,-68 360,-68 354,-68 348,-62 348,-56 348,-56 348,-12 348,-12 348,-6 354,-0 360,-0 360,-0 451,-0 451,-0 457,-0 463,-6 463,-12 463,-12 463,-56 463,-56 463,-62 457,-68 451,-68\"/>\r\n",
       "<text text-anchor=\"start\" x=\"363.5\" y=\"-52.8\" font-family=\"Helvetica,sans-Serif\" font-size=\"14.00\">entropy = 0.0</text>\r\n",
       "<text text-anchor=\"start\" x=\"366\" y=\"-37.8\" font-family=\"Helvetica,sans-Serif\" font-size=\"14.00\">samples = 3</text>\r\n",
       "<text text-anchor=\"start\" x=\"357\" y=\"-22.8\" font-family=\"Helvetica,sans-Serif\" font-size=\"14.00\">value = [0, 3, 0]</text>\r\n",
       "<text text-anchor=\"start\" x=\"356\" y=\"-7.8\" font-family=\"Helvetica,sans-Serif\" font-size=\"14.00\">class = class_1</text>\r\n",
       "</g>\r\n",
       "<!-- 9&#45;&gt;10 -->\r\n",
       "<g id=\"edge10\" class=\"edge\"><title>9&#45;&gt;10</title>\r\n",
       "<path fill=\"none\" stroke=\"black\" d=\"M447.552,-103.726C442.194,-94.9703 436.524,-85.7032 431.141,-76.9051\"/>\r\n",
       "<polygon fill=\"black\" stroke=\"black\" points=\"434.08,-75.0028 425.875,-68.2996 428.109,-78.6563 434.08,-75.0028\"/>\r\n",
       "</g>\r\n",
       "<!-- 11 -->\r\n",
       "<g id=\"node12\" class=\"node\"><title>11</title>\r\n",
       "<path fill=\"#e58139\" stroke=\"black\" d=\"M584,-68C584,-68 493,-68 493,-68 487,-68 481,-62 481,-56 481,-56 481,-12 481,-12 481,-6 487,-0 493,-0 493,-0 584,-0 584,-0 590,-0 596,-6 596,-12 596,-12 596,-56 596,-56 596,-62 590,-68 584,-68\"/>\r\n",
       "<text text-anchor=\"start\" x=\"496.5\" y=\"-52.8\" font-family=\"Helvetica,sans-Serif\" font-size=\"14.00\">entropy = 0.0</text>\r\n",
       "<text text-anchor=\"start\" x=\"499\" y=\"-37.8\" font-family=\"Helvetica,sans-Serif\" font-size=\"14.00\">samples = 1</text>\r\n",
       "<text text-anchor=\"start\" x=\"490\" y=\"-22.8\" font-family=\"Helvetica,sans-Serif\" font-size=\"14.00\">value = [1, 0, 0]</text>\r\n",
       "<text text-anchor=\"start\" x=\"489\" y=\"-7.8\" font-family=\"Helvetica,sans-Serif\" font-size=\"14.00\">class = class_0</text>\r\n",
       "</g>\r\n",
       "<!-- 9&#45;&gt;11 -->\r\n",
       "<g id=\"edge11\" class=\"edge\"><title>9&#45;&gt;11</title>\r\n",
       "<path fill=\"none\" stroke=\"black\" d=\"M497.076,-103.726C502.354,-94.9703 507.939,-85.7032 513.242,-76.9051\"/>\r\n",
       "<polygon fill=\"black\" stroke=\"black\" points=\"516.264,-78.671 518.429,-68.2996 510.269,-75.0574 516.264,-78.671\"/>\r\n",
       "</g>\r\n",
       "<!-- 13 -->\r\n",
       "<g id=\"node14\" class=\"node\"><title>13</title>\r\n",
       "<path fill=\"#39e581\" stroke=\"black\" d=\"M652,-179.5C652,-179.5 561,-179.5 561,-179.5 555,-179.5 549,-173.5 549,-167.5 549,-167.5 549,-123.5 549,-123.5 549,-117.5 555,-111.5 561,-111.5 561,-111.5 652,-111.5 652,-111.5 658,-111.5 664,-117.5 664,-123.5 664,-123.5 664,-167.5 664,-167.5 664,-173.5 658,-179.5 652,-179.5\"/>\r\n",
       "<text text-anchor=\"start\" x=\"564.5\" y=\"-164.3\" font-family=\"Helvetica,sans-Serif\" font-size=\"14.00\">entropy = 0.0</text>\r\n",
       "<text text-anchor=\"start\" x=\"567\" y=\"-149.3\" font-family=\"Helvetica,sans-Serif\" font-size=\"14.00\">samples = 4</text>\r\n",
       "<text text-anchor=\"start\" x=\"558\" y=\"-134.3\" font-family=\"Helvetica,sans-Serif\" font-size=\"14.00\">value = [0, 4, 0]</text>\r\n",
       "<text text-anchor=\"start\" x=\"557\" y=\"-119.3\" font-family=\"Helvetica,sans-Serif\" font-size=\"14.00\">class = class_1</text>\r\n",
       "</g>\r\n",
       "<!-- 12&#45;&gt;13 -->\r\n",
       "<g id=\"edge13\" class=\"edge\"><title>12&#45;&gt;13</title>\r\n",
       "<path fill=\"none\" stroke=\"black\" d=\"M606.5,-222.907C606.5,-212.204 606.5,-200.615 606.5,-189.776\"/>\r\n",
       "<polygon fill=\"black\" stroke=\"black\" points=\"610,-189.667 606.5,-179.667 603,-189.667 610,-189.667\"/>\r\n",
       "</g>\r\n",
       "<!-- 14 -->\r\n",
       "<g id=\"node15\" class=\"node\"><title>14</title>\r\n",
       "<path fill=\"#e58139\" stroke=\"black\" d=\"M791,-179.5C791,-179.5 694,-179.5 694,-179.5 688,-179.5 682,-173.5 682,-167.5 682,-167.5 682,-123.5 682,-123.5 682,-117.5 688,-111.5 694,-111.5 694,-111.5 791,-111.5 791,-111.5 797,-111.5 803,-117.5 803,-123.5 803,-123.5 803,-167.5 803,-167.5 803,-173.5 797,-179.5 791,-179.5\"/>\r\n",
       "<text text-anchor=\"start\" x=\"700.5\" y=\"-164.3\" font-family=\"Helvetica,sans-Serif\" font-size=\"14.00\">entropy = 0.0</text>\r\n",
       "<text text-anchor=\"start\" x=\"699\" y=\"-149.3\" font-family=\"Helvetica,sans-Serif\" font-size=\"14.00\">samples = 58</text>\r\n",
       "<text text-anchor=\"start\" x=\"690\" y=\"-134.3\" font-family=\"Helvetica,sans-Serif\" font-size=\"14.00\">value = [58, 0, 0]</text>\r\n",
       "<text text-anchor=\"start\" x=\"693\" y=\"-119.3\" font-family=\"Helvetica,sans-Serif\" font-size=\"14.00\">class = class_0</text>\r\n",
       "</g>\r\n",
       "<!-- 12&#45;&gt;14 -->\r\n",
       "<g id=\"edge14\" class=\"edge\"><title>12&#45;&gt;14</title>\r\n",
       "<path fill=\"none\" stroke=\"black\" d=\"M653.685,-222.907C667.409,-211.101 682.385,-198.217 696.063,-186.45\"/>\r\n",
       "<polygon fill=\"black\" stroke=\"black\" points=\"698.649,-188.842 703.947,-179.667 694.084,-183.535 698.649,-188.842\"/>\r\n",
       "</g>\r\n",
       "</g>\r\n",
       "</svg>\r\n"
      ],
      "text/plain": [
       "<graphviz.files.Source at 0x1b7e2e0fe48>"
      ]
     },
     "execution_count": 74,
     "metadata": {},
     "output_type": "execute_result"
    }
   ],
   "source": [
    "###################### print decision tree visualization\n",
    "dot_data = tree.export_graphviz(clf, out_file=None) \n",
    "graph = graphviz.Source(dot_data) \n",
    "graph.render(\"wine\") \n",
    "dot_data = tree.export_graphviz(clf, out_file=None, \n",
    "                         feature_names=wine.feature_names,  \n",
    "                         class_names=wine.target_names,  \n",
    "                         filled=True, rounded=True,\n",
    "                         special_characters=True)  \n",
    "graph = graphviz.Source(dot_data)  \n",
    "graph "
   ]
  }
 ],
 "metadata": {
  "kernelspec": {
   "display_name": "Python 3",
   "language": "python",
   "name": "python3"
  },
  "language_info": {
   "codemirror_mode": {
    "name": "ipython",
    "version": 3
   },
   "file_extension": ".py",
   "mimetype": "text/x-python",
   "name": "python",
   "nbconvert_exporter": "python",
   "pygments_lexer": "ipython3",
   "version": "3.6.5"
  }
 },
 "nbformat": 4,
 "nbformat_minor": 2
}
