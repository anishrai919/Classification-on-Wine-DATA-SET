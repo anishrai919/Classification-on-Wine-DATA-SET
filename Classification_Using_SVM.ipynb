{
 "cells": [
  {
   "cell_type": "markdown",
   "metadata": {},
   "source": [
    " Classification - Support Vector Machine"
   ]
  },
  {
   "cell_type": "markdown",
   "metadata": {},
   "source": [
    "External sources used.\n",
    "•\thttps://www.datacamp.com/community/tutorials/svm-classification-scikit-learn-python\n",
    "•\thttp://scikit-learn.org/stable/modules/svm.html\n",
    "•\thttp://scikit-learn.org/stable/modules/generated/sklearn.multiclass.OneVsRestClassifier.html"
   ]
  },
  {
   "cell_type": "code",
   "execution_count": 70,
   "metadata": {},
   "outputs": [],
   "source": [
    "import pandas as pd"
   ]
  },
  {
   "cell_type": "code",
   "execution_count": 71,
   "metadata": {},
   "outputs": [],
   "source": [
    "import numpy as np"
   ]
  },
  {
   "cell_type": "code",
   "execution_count": 72,
   "metadata": {},
   "outputs": [],
   "source": [
    "import matplotlib.pyplot as plt"
   ]
  },
  {
   "cell_type": "code",
   "execution_count": 73,
   "metadata": {},
   "outputs": [],
   "source": [
    "from sklearn import datasets"
   ]
  },
  {
   "cell_type": "code",
   "execution_count": 74,
   "metadata": {},
   "outputs": [],
   "source": [
    "wine = datasets.load_wine()"
   ]
  },
  {
   "cell_type": "code",
   "execution_count": 75,
   "metadata": {},
   "outputs": [],
   "source": [
    "x = wine.data\n",
    "y = wine.target"
   ]
  },
  {
   "cell_type": "code",
   "execution_count": 76,
   "metadata": {},
   "outputs": [],
   "source": [
    "################################################################### how to train and split\n",
    "\n",
    "from sklearn.model_selection import train_test_split"
   ]
  },
  {
   "cell_type": "code",
   "execution_count": 77,
   "metadata": {},
   "outputs": [],
   "source": [
    "#####################  choosing 2 features \n",
    "X=x[:,6:8]\n",
    "x_train, x_test, y_train, y_test = train_test_split(X,y,test_size=0.3,random_state=1,stratify=y)"
   ]
  },
  {
   "cell_type": "code",
   "execution_count": 78,
   "metadata": {},
   "outputs": [],
   "source": [
    "from sklearn import svm"
   ]
  },
  {
   "cell_type": "code",
   "execution_count": 79,
   "metadata": {},
   "outputs": [],
   "source": [
    "from sklearn.svm import SVC"
   ]
  },
  {
   "cell_type": "code",
   "execution_count": 80,
   "metadata": {},
   "outputs": [
    {
     "name": "stdout",
     "output_type": "stream",
     "text": [
      "[2 1 2 1 0 0 1 1 1 2 2 0 1 0 2 1 0 0 1 2 0 1 0 0 1 2 2 0 0 0 1 1 1 1 2 0 2\n",
      " 1 1 2 0 2 0 0 0 1 1 2 1 0 1 0 0 2]\n"
     ]
    }
   ],
   "source": [
    "######### predict using kernel = 'linear'\n",
    "classification1=svm.SVC(kernel='linear')  \n",
    "classification1.fit(x_train,y_train)\n",
    "linear = classification1.predict(x_test)\n",
    "print(linear)\n"
   ]
  },
  {
   "cell_type": "code",
   "execution_count": 81,
   "metadata": {},
   "outputs": [
    {
     "name": "stdout",
     "output_type": "stream",
     "text": [
      "[2 2 2 1 1 0 1 1 1 2 2 0 1 0 2 1 0 1 1 2 0 1 1 0 1 2 2 1 0 0 1 1 1 1 2 1 2\n",
      " 1 1 2 0 2 0 0 1 1 1 2 1 0 1 1 0 2]\n"
     ]
    }
   ],
   "source": [
    "############ predict using kernel = 'polynomial'\n",
    "classification2=svm.SVC(kernel='poly',degree=3)\n",
    "classification2.fit(x_train,y_train)\n",
    "non_linear1= classification2.predict(x_test)\n",
    "print(non_linear1)\n"
   ]
  },
  {
   "cell_type": "code",
   "execution_count": 82,
   "metadata": {},
   "outputs": [
    {
     "name": "stdout",
     "output_type": "stream",
     "text": [
      "[2 1 2 1 0 0 1 1 1 2 2 0 1 0 2 1 0 0 0 2 0 1 0 0 1 2 2 0 0 0 1 1 1 1 2 0 2\n",
      " 0 1 2 0 2 0 0 0 1 0 2 1 0 1 0 0 2]\n"
     ]
    }
   ],
   "source": [
    "############## predict using kernel = 'rbf'\n",
    "classification3=svm.SVC(kernel='rbf')\n",
    "classification3.fit(x_train,y_train)\n",
    "non_linear2= classification3.predict(x_test)\n",
    "print(non_linear2)\n"
   ]
  },
  {
   "cell_type": "code",
   "execution_count": 83,
   "metadata": {},
   "outputs": [],
   "source": [
    "############# imporing confusion_matrix and Classfication_report\n",
    "from sklearn.metrics import confusion_matrix\n",
    "from sklearn.metrics import classification_report"
   ]
  },
  {
   "cell_type": "code",
   "execution_count": 84,
   "metadata": {},
   "outputs": [
    {
     "name": "stdout",
     "output_type": "stream",
     "text": [
      "[[14  4  0]\n",
      " [ 6 14  1]\n",
      " [ 0  2 13]]\n"
     ]
    }
   ],
   "source": [
    "############ confusion matrix for kernel = 'linear'\n",
    "print(confusion_matrix(y_test,linear))"
   ]
  },
  {
   "cell_type": "code",
   "execution_count": 85,
   "metadata": {},
   "outputs": [
    {
     "name": "stdout",
     "output_type": "stream",
     "text": [
      "             precision    recall  f1-score   support\n",
      "\n",
      "    class_0       0.70      0.78      0.74        18\n",
      "    class_1       0.70      0.67      0.68        21\n",
      "    class_2       0.93      0.87      0.90        15\n",
      "\n",
      "avg / total       0.76      0.76      0.76        54\n",
      "\n"
     ]
    }
   ],
   "source": [
    "target=wine.target_names\n",
    "print(classification_report(y_test,linear,target_names=target))"
   ]
  },
  {
   "cell_type": "code",
   "execution_count": 86,
   "metadata": {},
   "outputs": [
    {
     "name": "stdout",
     "output_type": "stream",
     "text": [
      "[[11  7  0]\n",
      " [ 2 18  1]\n",
      " [ 0  1 14]]\n"
     ]
    }
   ],
   "source": [
    "############# confusion matrix for kernel ='polynomial'\n",
    "print(confusion_matrix(y_test,non_linear1))\n"
   ]
  },
  {
   "cell_type": "code",
   "execution_count": 87,
   "metadata": {},
   "outputs": [
    {
     "name": "stdout",
     "output_type": "stream",
     "text": [
      "             precision    recall  f1-score   support\n",
      "\n",
      "    class_0       0.85      0.61      0.71        18\n",
      "    class_1       0.69      0.86      0.77        21\n",
      "    class_2       0.93      0.93      0.93        15\n",
      "\n",
      "avg / total       0.81      0.80      0.79        54\n",
      "\n"
     ]
    }
   ],
   "source": [
    "print(classification_report(y_test,non_linear1,target_names=target))"
   ]
  },
  {
   "cell_type": "code",
   "execution_count": 88,
   "metadata": {},
   "outputs": [
    {
     "data": {
      "text/plain": [
       "array([[16,  2,  0],\n",
       "       [ 7, 13,  1],\n",
       "       [ 0,  2, 13]], dtype=int64)"
      ]
     },
     "execution_count": 88,
     "metadata": {},
     "output_type": "execute_result"
    }
   ],
   "source": [
    "##################### confusion matrix for kernel = 'rbf'\n",
    "confusion_matrix(y_test,non_linear2)"
   ]
  },
  {
   "cell_type": "code",
   "execution_count": 89,
   "metadata": {},
   "outputs": [
    {
     "name": "stdout",
     "output_type": "stream",
     "text": [
      "             precision    recall  f1-score   support\n",
      "\n",
      "    class_0       0.70      0.89      0.78        18\n",
      "    class_1       0.76      0.62      0.68        21\n",
      "    class_2       0.93      0.87      0.90        15\n",
      "\n",
      "avg / total       0.79      0.78      0.78        54\n",
      "\n"
     ]
    }
   ],
   "source": [
    "print(classification_report(y_test,non_linear2,target_names=target))"
   ]
  },
  {
   "cell_type": "code",
   "execution_count": 90,
   "metadata": {},
   "outputs": [
    {
     "name": "stdout",
     "output_type": "stream",
     "text": [
      "Automatically created module for IPython interactive environment\n"
     ]
    },
    {
     "data": {
      "image/png": "[encoded data removed]",
      "text/plain": [
       "<Figure size 432x288 with 4 Axes>"
      ]
     },
     "metadata": {},
     "output_type": "display_data"
    }
   ],
   "source": [
    "####################### plotting the classifier in 2d projection\n",
    "print(__doc__)\n",
    "\n",
    "import numpy as np\n",
    "import matplotlib.pyplot as plt\n",
    "from sklearn import svm, datasets\n",
    "\n",
    "\n",
    "def make_meshgrid(x, y, h=.02):\n",
    "    \"\"\"Create a mesh of points to plot in\n",
    "\n",
    "    Parameters\n",
    "    ----------\n",
    "    x: data to base x-axis meshgrid on\n",
    "    y: data to base y-axis meshgrid on\n",
    "    h: stepsize for meshgrid, optional\n",
    "\n",
    "    Returns\n",
    "    -------\n",
    "    xx, yy : ndarray\n",
    "    \"\"\"\n",
    "    x_min, x_max = x.min() - 1, x.max() + 1\n",
    "    y_min, y_max = y.min() - 1, y.max() + 1\n",
    "    xx, yy = np.meshgrid(np.arange(x_min, x_max, h),\n",
    "                         np.arange(y_min, y_max, h))\n",
    "    return xx, yy\n",
    "\n",
    "\n",
    "def plot_contours(ax, clf, xx, yy, **params):\n",
    "    \"\"\"Plot the decision boundaries for a classifier.\n",
    "\n",
    "    Parameters\n",
    "    ----------\n",
    "    ax: matplotlib axes object\n",
    "    clf: a classifier\n",
    "    xx: meshgrid ndarray\n",
    "    yy: meshgrid ndarray\n",
    "    params: dictionary of params to pass to contourf, optional\n",
    "    \"\"\"\n",
    "    Z = clf.predict(np.c_[xx.ravel(), yy.ravel()])\n",
    "    Z = Z.reshape(xx.shape)\n",
    "    out = ax.contourf(xx, yy, Z, **params)\n",
    "    return out\n",
    "\n",
    "\n",
    "\n",
    "# we create an instance of SVM and fit out data. We do not scale our\n",
    "# data since we want to plot the support vectors\n",
    "C = 1.0  # SVM regularization parameter\n",
    "models = (svm.SVC(kernel='linear', C=C),\n",
    "          svm.SVC(kernel='rbf', gamma=0.7, C=C),\n",
    "          svm.SVC(kernel='poly', degree=3, C=C))\n",
    "models = (clf.fit(X, y) for clf in models)\n",
    "\n",
    "# title for the plots\n",
    "titles = ('SVC with linear kernel',\n",
    "          'SVC with RBF kernel',\n",
    "          'SVC with polynomial (degree 3) kernel')\n",
    "\n",
    "# Set-up 2x2 grid for plotting.\n",
    "fig, sub = plt.subplots(2, 2)\n",
    "plt.subplots_adjust(wspace=0.8, hspace=0.8)\n",
    "\n",
    "X0, X1 = X[:, 0], X[:, 1]\n",
    "xx, yy = make_meshgrid(X0, X1)\n",
    "\n",
    "for clf, title, ax in zip(models, titles, sub.flatten()):\n",
    "    plot_contours(ax, clf, xx, yy,\n",
    "                  cmap=plt.cm.coolwarm, alpha=0.9)\n",
    "    ax.scatter(X0, X1, c=y, cmap=plt.cm.coolwarm, s=18, edgecolors='k')\n",
    "    ax.set_xlim(xx.min(), xx.max())\n",
    "    ax.set_ylim(yy.min(), yy.max())\n",
    "    ax.set_xlabel('flavanoids')\n",
    "    ax.set_ylabel('nonflavanoid_phenols')\n",
    "    ax.set_xticks(())\n",
    "    ax.set_yticks(())\n",
    "    ax.set_title(title)\n",
    "\n",
    "plt.show()"
   ]
  }
 ],
 "metadata": {
  "kernelspec": {
   "display_name": "Python 3",
   "language": "python",
   "name": "python3"
  },
  "language_info": {
   "codemirror_mode": {
    "name": "ipython",
    "version": 3
   },
   "file_extension": ".py",
   "mimetype": "text/x-python",
   "name": "python",
   "nbconvert_exporter": "python",
   "pygments_lexer": "ipython3",
   "version": "3.6.5"
  }
 },
 "nbformat": 4,
 "nbformat_minor": 1
}
